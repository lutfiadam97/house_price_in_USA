{
 "cells": [
  {
   "cell_type": "markdown",
   "metadata": {},
   "source": [
    "# Milestones 2\n",
    "\n",
    "---"
   ]
  },
  {
   "cell_type": "markdown",
   "metadata": {},
   "source": [
    "# 1. Perkenalan\n",
    "\n",
    "Bab pengenalan harus diisi dengan identitas, gambaran besar dataset yang digunakan, dan objective yang ingin dicapai."
   ]
  },
  {
   "cell_type": "markdown",
   "metadata": {},
   "source": [
    "**Info Dataset**\n",
    "\n",
    "Dataset ini berisi tentang daftar harga rumah di setiap kota di negara USA (United State). Saya sebagai data analis akan melakukan prediksi harga rumah berdasarkan lokasi, kamar tidur, kondisi rumah, luas tanah, dll."
   ]
  },
  {
   "cell_type": "markdown",
   "metadata": {},
   "source": [
    "Objective :\n",
    "- Mampu membuat Model Machine Learning untuk memprediksi harga rumah di setiap kota di USA."
   ]
  },
  {
   "cell_type": "markdown",
   "metadata": {},
   "source": [
    "# 2. Import Pustaka\n",
    "Cell pertama pada notebook harus berisi dan hanya berisi semua library yang digunakan dalam project."
   ]
  },
  {
   "cell_type": "code",
   "execution_count": 77,
   "metadata": {},
   "outputs": [],
   "source": [
    "import pandas as pd\n",
    "import numpy as np\n",
    "import matplotlib.pyplot as plt\n",
    "import seaborn as sns\n",
    "from matplotlib.gridspec import GridSpec\n",
    "\n",
    "import warnings\n",
    "warnings.filterwarnings('ignore')\n",
    "\n",
    "# Split Dataset Train and Test\n",
    "from sklearn.model_selection import train_test_split\n",
    "\n",
    "# Handling Outliers and Missing Values\n",
    "from feature_engine.outliers import Winsorizer\n",
    "from feature_engine.outliers import OutlierTrimmer\n",
    "from sklearn.impute import SimpleImputer\n",
    "\n",
    "# Feature Scaling and Feature Encoding\n",
    "from sklearn.preprocessing import OneHotEncoder\n",
    "from sklearn.preprocessing import StandardScaler\n",
    "from sklearn.compose import make_column_selector,make_column_transformer\n",
    "\n",
    "# Pipeline\n",
    "from sklearn.pipeline import Pipeline\n",
    "from sklearn.compose import ColumnTransformer\n",
    "\n",
    "# Model Method\n",
    "from sklearn.linear_model import LinearRegression\n",
    "from sklearn.preprocessing import PolynomialFeatures\n",
    "from sklearn.ensemble import RandomForestRegressor\n",
    "from sklearn.model_selection import GridSearchCV\n",
    "\n",
    "# Model Evaluation\n",
    "from sklearn.metrics import r2_score, mean_absolute_error, mean_squared_error\n"
   ]
  },
  {
   "cell_type": "markdown",
   "metadata": {},
   "source": [
    "# 3. Data Loading\n",
    "\n",
    "Bagian ini berisi proses penyiapan data sebelum dilakukan eksplorasi data lebih lanjut. Proses Data Loading dapat berupa memberi nama baru untuk setiap kolom, mengecek ukuran dataset, dll."
   ]
  },
  {
   "cell_type": "markdown",
   "metadata": {},
   "source": [
    "Sumber dataset : https://www.kaggle.com/shree1992/housedata"
   ]
  },
  {
   "cell_type": "code",
   "execution_count": 78,
   "metadata": {},
   "outputs": [
    {
     "data": {
      "text/html": [
       "<div>\n",
       "<style scoped>\n",
       "    .dataframe tbody tr th:only-of-type {\n",
       "        vertical-align: middle;\n",
       "    }\n",
       "\n",
       "    .dataframe tbody tr th {\n",
       "        vertical-align: top;\n",
       "    }\n",
       "\n",
       "    .dataframe thead th {\n",
       "        text-align: right;\n",
       "    }\n",
       "</style>\n",
       "<table border=\"1\" class=\"dataframe\">\n",
       "  <thead>\n",
       "    <tr style=\"text-align: right;\">\n",
       "      <th></th>\n",
       "      <th>date</th>\n",
       "      <th>price</th>\n",
       "      <th>bedrooms</th>\n",
       "      <th>bathrooms</th>\n",
       "      <th>sqft_living</th>\n",
       "      <th>sqft_lot</th>\n",
       "      <th>floors</th>\n",
       "      <th>waterfront</th>\n",
       "      <th>view</th>\n",
       "      <th>condition</th>\n",
       "      <th>sqft_above</th>\n",
       "      <th>sqft_basement</th>\n",
       "      <th>yr_built</th>\n",
       "      <th>yr_renovated</th>\n",
       "      <th>street</th>\n",
       "      <th>city</th>\n",
       "      <th>statezip</th>\n",
       "      <th>country</th>\n",
       "    </tr>\n",
       "  </thead>\n",
       "  <tbody>\n",
       "    <tr>\n",
       "      <th>0</th>\n",
       "      <td>2014-05-02 00:00:00</td>\n",
       "      <td>3.130000e+05</td>\n",
       "      <td>3.0</td>\n",
       "      <td>1.50</td>\n",
       "      <td>1340</td>\n",
       "      <td>7912</td>\n",
       "      <td>1.5</td>\n",
       "      <td>0</td>\n",
       "      <td>0</td>\n",
       "      <td>3</td>\n",
       "      <td>1340</td>\n",
       "      <td>0</td>\n",
       "      <td>1955</td>\n",
       "      <td>2005</td>\n",
       "      <td>18810 Densmore Ave N</td>\n",
       "      <td>Shoreline</td>\n",
       "      <td>WA 98133</td>\n",
       "      <td>USA</td>\n",
       "    </tr>\n",
       "    <tr>\n",
       "      <th>1</th>\n",
       "      <td>2014-05-02 00:00:00</td>\n",
       "      <td>2.384000e+06</td>\n",
       "      <td>5.0</td>\n",
       "      <td>2.50</td>\n",
       "      <td>3650</td>\n",
       "      <td>9050</td>\n",
       "      <td>2.0</td>\n",
       "      <td>0</td>\n",
       "      <td>4</td>\n",
       "      <td>5</td>\n",
       "      <td>3370</td>\n",
       "      <td>280</td>\n",
       "      <td>1921</td>\n",
       "      <td>0</td>\n",
       "      <td>709 W Blaine St</td>\n",
       "      <td>Seattle</td>\n",
       "      <td>WA 98119</td>\n",
       "      <td>USA</td>\n",
       "    </tr>\n",
       "    <tr>\n",
       "      <th>2</th>\n",
       "      <td>2014-05-02 00:00:00</td>\n",
       "      <td>3.420000e+05</td>\n",
       "      <td>3.0</td>\n",
       "      <td>2.00</td>\n",
       "      <td>1930</td>\n",
       "      <td>11947</td>\n",
       "      <td>1.0</td>\n",
       "      <td>0</td>\n",
       "      <td>0</td>\n",
       "      <td>4</td>\n",
       "      <td>1930</td>\n",
       "      <td>0</td>\n",
       "      <td>1966</td>\n",
       "      <td>0</td>\n",
       "      <td>26206-26214 143rd Ave SE</td>\n",
       "      <td>Kent</td>\n",
       "      <td>WA 98042</td>\n",
       "      <td>USA</td>\n",
       "    </tr>\n",
       "    <tr>\n",
       "      <th>3</th>\n",
       "      <td>2014-05-02 00:00:00</td>\n",
       "      <td>4.200000e+05</td>\n",
       "      <td>3.0</td>\n",
       "      <td>2.25</td>\n",
       "      <td>2000</td>\n",
       "      <td>8030</td>\n",
       "      <td>1.0</td>\n",
       "      <td>0</td>\n",
       "      <td>0</td>\n",
       "      <td>4</td>\n",
       "      <td>1000</td>\n",
       "      <td>1000</td>\n",
       "      <td>1963</td>\n",
       "      <td>0</td>\n",
       "      <td>857 170th Pl NE</td>\n",
       "      <td>Bellevue</td>\n",
       "      <td>WA 98008</td>\n",
       "      <td>USA</td>\n",
       "    </tr>\n",
       "    <tr>\n",
       "      <th>4</th>\n",
       "      <td>2014-05-02 00:00:00</td>\n",
       "      <td>5.500000e+05</td>\n",
       "      <td>4.0</td>\n",
       "      <td>2.50</td>\n",
       "      <td>1940</td>\n",
       "      <td>10500</td>\n",
       "      <td>1.0</td>\n",
       "      <td>0</td>\n",
       "      <td>0</td>\n",
       "      <td>4</td>\n",
       "      <td>1140</td>\n",
       "      <td>800</td>\n",
       "      <td>1976</td>\n",
       "      <td>1992</td>\n",
       "      <td>9105 170th Ave NE</td>\n",
       "      <td>Redmond</td>\n",
       "      <td>WA 98052</td>\n",
       "      <td>USA</td>\n",
       "    </tr>\n",
       "    <tr>\n",
       "      <th>...</th>\n",
       "      <td>...</td>\n",
       "      <td>...</td>\n",
       "      <td>...</td>\n",
       "      <td>...</td>\n",
       "      <td>...</td>\n",
       "      <td>...</td>\n",
       "      <td>...</td>\n",
       "      <td>...</td>\n",
       "      <td>...</td>\n",
       "      <td>...</td>\n",
       "      <td>...</td>\n",
       "      <td>...</td>\n",
       "      <td>...</td>\n",
       "      <td>...</td>\n",
       "      <td>...</td>\n",
       "      <td>...</td>\n",
       "      <td>...</td>\n",
       "      <td>...</td>\n",
       "    </tr>\n",
       "    <tr>\n",
       "      <th>4595</th>\n",
       "      <td>2014-07-09 00:00:00</td>\n",
       "      <td>3.081667e+05</td>\n",
       "      <td>3.0</td>\n",
       "      <td>1.75</td>\n",
       "      <td>1510</td>\n",
       "      <td>6360</td>\n",
       "      <td>1.0</td>\n",
       "      <td>0</td>\n",
       "      <td>0</td>\n",
       "      <td>4</td>\n",
       "      <td>1510</td>\n",
       "      <td>0</td>\n",
       "      <td>1954</td>\n",
       "      <td>1979</td>\n",
       "      <td>501 N 143rd St</td>\n",
       "      <td>Seattle</td>\n",
       "      <td>WA 98133</td>\n",
       "      <td>USA</td>\n",
       "    </tr>\n",
       "    <tr>\n",
       "      <th>4596</th>\n",
       "      <td>2014-07-09 00:00:00</td>\n",
       "      <td>5.343333e+05</td>\n",
       "      <td>3.0</td>\n",
       "      <td>2.50</td>\n",
       "      <td>1460</td>\n",
       "      <td>7573</td>\n",
       "      <td>2.0</td>\n",
       "      <td>0</td>\n",
       "      <td>0</td>\n",
       "      <td>3</td>\n",
       "      <td>1460</td>\n",
       "      <td>0</td>\n",
       "      <td>1983</td>\n",
       "      <td>2009</td>\n",
       "      <td>14855 SE 10th Pl</td>\n",
       "      <td>Bellevue</td>\n",
       "      <td>WA 98007</td>\n",
       "      <td>USA</td>\n",
       "    </tr>\n",
       "    <tr>\n",
       "      <th>4597</th>\n",
       "      <td>2014-07-09 00:00:00</td>\n",
       "      <td>4.169042e+05</td>\n",
       "      <td>3.0</td>\n",
       "      <td>2.50</td>\n",
       "      <td>3010</td>\n",
       "      <td>7014</td>\n",
       "      <td>2.0</td>\n",
       "      <td>0</td>\n",
       "      <td>0</td>\n",
       "      <td>3</td>\n",
       "      <td>3010</td>\n",
       "      <td>0</td>\n",
       "      <td>2009</td>\n",
       "      <td>0</td>\n",
       "      <td>759 Ilwaco Pl NE</td>\n",
       "      <td>Renton</td>\n",
       "      <td>WA 98059</td>\n",
       "      <td>USA</td>\n",
       "    </tr>\n",
       "    <tr>\n",
       "      <th>4598</th>\n",
       "      <td>2014-07-10 00:00:00</td>\n",
       "      <td>2.034000e+05</td>\n",
       "      <td>4.0</td>\n",
       "      <td>2.00</td>\n",
       "      <td>2090</td>\n",
       "      <td>6630</td>\n",
       "      <td>1.0</td>\n",
       "      <td>0</td>\n",
       "      <td>0</td>\n",
       "      <td>3</td>\n",
       "      <td>1070</td>\n",
       "      <td>1020</td>\n",
       "      <td>1974</td>\n",
       "      <td>0</td>\n",
       "      <td>5148 S Creston St</td>\n",
       "      <td>Seattle</td>\n",
       "      <td>WA 98178</td>\n",
       "      <td>USA</td>\n",
       "    </tr>\n",
       "    <tr>\n",
       "      <th>4599</th>\n",
       "      <td>2014-07-10 00:00:00</td>\n",
       "      <td>2.206000e+05</td>\n",
       "      <td>3.0</td>\n",
       "      <td>2.50</td>\n",
       "      <td>1490</td>\n",
       "      <td>8102</td>\n",
       "      <td>2.0</td>\n",
       "      <td>0</td>\n",
       "      <td>0</td>\n",
       "      <td>4</td>\n",
       "      <td>1490</td>\n",
       "      <td>0</td>\n",
       "      <td>1990</td>\n",
       "      <td>0</td>\n",
       "      <td>18717 SE 258th St</td>\n",
       "      <td>Covington</td>\n",
       "      <td>WA 98042</td>\n",
       "      <td>USA</td>\n",
       "    </tr>\n",
       "  </tbody>\n",
       "</table>\n",
       "<p>4600 rows × 18 columns</p>\n",
       "</div>"
      ],
      "text/plain": [
       "                     date         price  bedrooms  bathrooms  sqft_living  \\\n",
       "0     2014-05-02 00:00:00  3.130000e+05       3.0       1.50         1340   \n",
       "1     2014-05-02 00:00:00  2.384000e+06       5.0       2.50         3650   \n",
       "2     2014-05-02 00:00:00  3.420000e+05       3.0       2.00         1930   \n",
       "3     2014-05-02 00:00:00  4.200000e+05       3.0       2.25         2000   \n",
       "4     2014-05-02 00:00:00  5.500000e+05       4.0       2.50         1940   \n",
       "...                   ...           ...       ...        ...          ...   \n",
       "4595  2014-07-09 00:00:00  3.081667e+05       3.0       1.75         1510   \n",
       "4596  2014-07-09 00:00:00  5.343333e+05       3.0       2.50         1460   \n",
       "4597  2014-07-09 00:00:00  4.169042e+05       3.0       2.50         3010   \n",
       "4598  2014-07-10 00:00:00  2.034000e+05       4.0       2.00         2090   \n",
       "4599  2014-07-10 00:00:00  2.206000e+05       3.0       2.50         1490   \n",
       "\n",
       "      sqft_lot  floors  waterfront  view  condition  sqft_above  \\\n",
       "0         7912     1.5           0     0          3        1340   \n",
       "1         9050     2.0           0     4          5        3370   \n",
       "2        11947     1.0           0     0          4        1930   \n",
       "3         8030     1.0           0     0          4        1000   \n",
       "4        10500     1.0           0     0          4        1140   \n",
       "...        ...     ...         ...   ...        ...         ...   \n",
       "4595      6360     1.0           0     0          4        1510   \n",
       "4596      7573     2.0           0     0          3        1460   \n",
       "4597      7014     2.0           0     0          3        3010   \n",
       "4598      6630     1.0           0     0          3        1070   \n",
       "4599      8102     2.0           0     0          4        1490   \n",
       "\n",
       "      sqft_basement  yr_built  yr_renovated                    street  \\\n",
       "0                 0      1955          2005      18810 Densmore Ave N   \n",
       "1               280      1921             0           709 W Blaine St   \n",
       "2                 0      1966             0  26206-26214 143rd Ave SE   \n",
       "3              1000      1963             0           857 170th Pl NE   \n",
       "4               800      1976          1992         9105 170th Ave NE   \n",
       "...             ...       ...           ...                       ...   \n",
       "4595              0      1954          1979            501 N 143rd St   \n",
       "4596              0      1983          2009          14855 SE 10th Pl   \n",
       "4597              0      2009             0          759 Ilwaco Pl NE   \n",
       "4598           1020      1974             0         5148 S Creston St   \n",
       "4599              0      1990             0         18717 SE 258th St   \n",
       "\n",
       "           city  statezip country  \n",
       "0     Shoreline  WA 98133     USA  \n",
       "1       Seattle  WA 98119     USA  \n",
       "2          Kent  WA 98042     USA  \n",
       "3      Bellevue  WA 98008     USA  \n",
       "4       Redmond  WA 98052     USA  \n",
       "...         ...       ...     ...  \n",
       "4595    Seattle  WA 98133     USA  \n",
       "4596   Bellevue  WA 98007     USA  \n",
       "4597     Renton  WA 98059     USA  \n",
       "4598    Seattle  WA 98178     USA  \n",
       "4599  Covington  WA 98042     USA  \n",
       "\n",
       "[4600 rows x 18 columns]"
      ]
     },
     "execution_count": 78,
     "metadata": {},
     "output_type": "execute_result"
    }
   ],
   "source": [
    "# Dataset\n",
    "df = pd.read_csv('D:\\Project\\hacktiv8_project\\dataset\\milestone_dataset/house_price_pred.csv')\n",
    "df_ori = df.copy()\n",
    "pd.set_option('display.max_columns', None)\n",
    "df"
   ]
  },
  {
   "cell_type": "code",
   "execution_count": 79,
   "metadata": {},
   "outputs": [
    {
     "data": {
      "text/plain": [
       "(4600, 18)"
      ]
     },
     "execution_count": 79,
     "metadata": {},
     "output_type": "execute_result"
    }
   ],
   "source": [
    "df.shape"
   ]
  },
  {
   "cell_type": "code",
   "execution_count": 80,
   "metadata": {},
   "outputs": [
    {
     "name": "stdout",
     "output_type": "stream",
     "text": [
      "<class 'pandas.core.frame.DataFrame'>\n",
      "RangeIndex: 4600 entries, 0 to 4599\n",
      "Data columns (total 18 columns):\n",
      " #   Column         Non-Null Count  Dtype  \n",
      "---  ------         --------------  -----  \n",
      " 0   date           4600 non-null   object \n",
      " 1   price          4600 non-null   float64\n",
      " 2   bedrooms       4600 non-null   float64\n",
      " 3   bathrooms      4600 non-null   float64\n",
      " 4   sqft_living    4600 non-null   int64  \n",
      " 5   sqft_lot       4600 non-null   int64  \n",
      " 6   floors         4600 non-null   float64\n",
      " 7   waterfront     4600 non-null   int64  \n",
      " 8   view           4600 non-null   int64  \n",
      " 9   condition      4600 non-null   int64  \n",
      " 10  sqft_above     4600 non-null   int64  \n",
      " 11  sqft_basement  4600 non-null   int64  \n",
      " 12  yr_built       4600 non-null   int64  \n",
      " 13  yr_renovated   4600 non-null   int64  \n",
      " 14  street         4600 non-null   object \n",
      " 15  city           4600 non-null   object \n",
      " 16  statezip       4600 non-null   object \n",
      " 17  country        4600 non-null   object \n",
      "dtypes: float64(4), int64(9), object(5)\n",
      "memory usage: 647.0+ KB\n"
     ]
    }
   ],
   "source": [
    "df.info()"
   ]
  },
  {
   "cell_type": "code",
   "execution_count": 81,
   "metadata": {},
   "outputs": [
    {
     "data": {
      "text/html": [
       "<div>\n",
       "<style scoped>\n",
       "    .dataframe tbody tr th:only-of-type {\n",
       "        vertical-align: middle;\n",
       "    }\n",
       "\n",
       "    .dataframe tbody tr th {\n",
       "        vertical-align: top;\n",
       "    }\n",
       "\n",
       "    .dataframe thead th {\n",
       "        text-align: right;\n",
       "    }\n",
       "</style>\n",
       "<table border=\"1\" class=\"dataframe\">\n",
       "  <thead>\n",
       "    <tr style=\"text-align: right;\">\n",
       "      <th></th>\n",
       "      <th>count</th>\n",
       "      <th>mean</th>\n",
       "      <th>std</th>\n",
       "      <th>min</th>\n",
       "      <th>25%</th>\n",
       "      <th>50%</th>\n",
       "      <th>75%</th>\n",
       "      <th>max</th>\n",
       "    </tr>\n",
       "  </thead>\n",
       "  <tbody>\n",
       "    <tr>\n",
       "      <th>price</th>\n",
       "      <td>4600.0</td>\n",
       "      <td>551962.988473</td>\n",
       "      <td>563834.702547</td>\n",
       "      <td>0.0</td>\n",
       "      <td>322875.00</td>\n",
       "      <td>460943.461539</td>\n",
       "      <td>654962.50</td>\n",
       "      <td>26590000.0</td>\n",
       "    </tr>\n",
       "    <tr>\n",
       "      <th>bedrooms</th>\n",
       "      <td>4600.0</td>\n",
       "      <td>3.400870</td>\n",
       "      <td>0.908848</td>\n",
       "      <td>0.0</td>\n",
       "      <td>3.00</td>\n",
       "      <td>3.000000</td>\n",
       "      <td>4.00</td>\n",
       "      <td>9.0</td>\n",
       "    </tr>\n",
       "    <tr>\n",
       "      <th>bathrooms</th>\n",
       "      <td>4600.0</td>\n",
       "      <td>2.160815</td>\n",
       "      <td>0.783781</td>\n",
       "      <td>0.0</td>\n",
       "      <td>1.75</td>\n",
       "      <td>2.250000</td>\n",
       "      <td>2.50</td>\n",
       "      <td>8.0</td>\n",
       "    </tr>\n",
       "    <tr>\n",
       "      <th>sqft_living</th>\n",
       "      <td>4600.0</td>\n",
       "      <td>2139.346957</td>\n",
       "      <td>963.206916</td>\n",
       "      <td>370.0</td>\n",
       "      <td>1460.00</td>\n",
       "      <td>1980.000000</td>\n",
       "      <td>2620.00</td>\n",
       "      <td>13540.0</td>\n",
       "    </tr>\n",
       "    <tr>\n",
       "      <th>sqft_lot</th>\n",
       "      <td>4600.0</td>\n",
       "      <td>14852.516087</td>\n",
       "      <td>35884.436145</td>\n",
       "      <td>638.0</td>\n",
       "      <td>5000.75</td>\n",
       "      <td>7683.000000</td>\n",
       "      <td>11001.25</td>\n",
       "      <td>1074218.0</td>\n",
       "    </tr>\n",
       "    <tr>\n",
       "      <th>floors</th>\n",
       "      <td>4600.0</td>\n",
       "      <td>1.512065</td>\n",
       "      <td>0.538288</td>\n",
       "      <td>1.0</td>\n",
       "      <td>1.00</td>\n",
       "      <td>1.500000</td>\n",
       "      <td>2.00</td>\n",
       "      <td>3.5</td>\n",
       "    </tr>\n",
       "    <tr>\n",
       "      <th>waterfront</th>\n",
       "      <td>4600.0</td>\n",
       "      <td>0.007174</td>\n",
       "      <td>0.084404</td>\n",
       "      <td>0.0</td>\n",
       "      <td>0.00</td>\n",
       "      <td>0.000000</td>\n",
       "      <td>0.00</td>\n",
       "      <td>1.0</td>\n",
       "    </tr>\n",
       "    <tr>\n",
       "      <th>view</th>\n",
       "      <td>4600.0</td>\n",
       "      <td>0.240652</td>\n",
       "      <td>0.778405</td>\n",
       "      <td>0.0</td>\n",
       "      <td>0.00</td>\n",
       "      <td>0.000000</td>\n",
       "      <td>0.00</td>\n",
       "      <td>4.0</td>\n",
       "    </tr>\n",
       "    <tr>\n",
       "      <th>condition</th>\n",
       "      <td>4600.0</td>\n",
       "      <td>3.451739</td>\n",
       "      <td>0.677230</td>\n",
       "      <td>1.0</td>\n",
       "      <td>3.00</td>\n",
       "      <td>3.000000</td>\n",
       "      <td>4.00</td>\n",
       "      <td>5.0</td>\n",
       "    </tr>\n",
       "    <tr>\n",
       "      <th>sqft_above</th>\n",
       "      <td>4600.0</td>\n",
       "      <td>1827.265435</td>\n",
       "      <td>862.168977</td>\n",
       "      <td>370.0</td>\n",
       "      <td>1190.00</td>\n",
       "      <td>1590.000000</td>\n",
       "      <td>2300.00</td>\n",
       "      <td>9410.0</td>\n",
       "    </tr>\n",
       "    <tr>\n",
       "      <th>sqft_basement</th>\n",
       "      <td>4600.0</td>\n",
       "      <td>312.081522</td>\n",
       "      <td>464.137228</td>\n",
       "      <td>0.0</td>\n",
       "      <td>0.00</td>\n",
       "      <td>0.000000</td>\n",
       "      <td>610.00</td>\n",
       "      <td>4820.0</td>\n",
       "    </tr>\n",
       "    <tr>\n",
       "      <th>yr_built</th>\n",
       "      <td>4600.0</td>\n",
       "      <td>1970.786304</td>\n",
       "      <td>29.731848</td>\n",
       "      <td>1900.0</td>\n",
       "      <td>1951.00</td>\n",
       "      <td>1976.000000</td>\n",
       "      <td>1997.00</td>\n",
       "      <td>2014.0</td>\n",
       "    </tr>\n",
       "    <tr>\n",
       "      <th>yr_renovated</th>\n",
       "      <td>4600.0</td>\n",
       "      <td>808.608261</td>\n",
       "      <td>979.414536</td>\n",
       "      <td>0.0</td>\n",
       "      <td>0.00</td>\n",
       "      <td>0.000000</td>\n",
       "      <td>1999.00</td>\n",
       "      <td>2014.0</td>\n",
       "    </tr>\n",
       "  </tbody>\n",
       "</table>\n",
       "</div>"
      ],
      "text/plain": [
       "                count           mean            std     min        25%  \\\n",
       "price          4600.0  551962.988473  563834.702547     0.0  322875.00   \n",
       "bedrooms       4600.0       3.400870       0.908848     0.0       3.00   \n",
       "bathrooms      4600.0       2.160815       0.783781     0.0       1.75   \n",
       "sqft_living    4600.0    2139.346957     963.206916   370.0    1460.00   \n",
       "sqft_lot       4600.0   14852.516087   35884.436145   638.0    5000.75   \n",
       "floors         4600.0       1.512065       0.538288     1.0       1.00   \n",
       "waterfront     4600.0       0.007174       0.084404     0.0       0.00   \n",
       "view           4600.0       0.240652       0.778405     0.0       0.00   \n",
       "condition      4600.0       3.451739       0.677230     1.0       3.00   \n",
       "sqft_above     4600.0    1827.265435     862.168977   370.0    1190.00   \n",
       "sqft_basement  4600.0     312.081522     464.137228     0.0       0.00   \n",
       "yr_built       4600.0    1970.786304      29.731848  1900.0    1951.00   \n",
       "yr_renovated   4600.0     808.608261     979.414536     0.0       0.00   \n",
       "\n",
       "                         50%        75%         max  \n",
       "price          460943.461539  654962.50  26590000.0  \n",
       "bedrooms            3.000000       4.00         9.0  \n",
       "bathrooms           2.250000       2.50         8.0  \n",
       "sqft_living      1980.000000    2620.00     13540.0  \n",
       "sqft_lot         7683.000000   11001.25   1074218.0  \n",
       "floors              1.500000       2.00         3.5  \n",
       "waterfront          0.000000       0.00         1.0  \n",
       "view                0.000000       0.00         4.0  \n",
       "condition           3.000000       4.00         5.0  \n",
       "sqft_above       1590.000000    2300.00      9410.0  \n",
       "sqft_basement       0.000000     610.00      4820.0  \n",
       "yr_built         1976.000000    1997.00      2014.0  \n",
       "yr_renovated        0.000000    1999.00      2014.0  "
      ]
     },
     "execution_count": 81,
     "metadata": {},
     "output_type": "execute_result"
    }
   ],
   "source": [
    "df.describe().T"
   ]
  },
  {
   "cell_type": "markdown",
   "metadata": {},
   "source": [
    "# 4. Exploratory Data Analysis (EDA)\n",
    "\n",
    "Bagian ini berisi eksplorasi data pada dataset diatas dengan menggunakan query, grouping, visualisasi sederhana, dan lain sebagainya."
   ]
  },
  {
   "cell_type": "code",
   "execution_count": 82,
   "metadata": {},
   "outputs": [
    {
     "data": {
      "text/plain": [
       "date             0\n",
       "price            0\n",
       "bedrooms         0\n",
       "bathrooms        0\n",
       "sqft_living      0\n",
       "sqft_lot         0\n",
       "floors           0\n",
       "waterfront       0\n",
       "view             0\n",
       "condition        0\n",
       "sqft_above       0\n",
       "sqft_basement    0\n",
       "yr_built         0\n",
       "yr_renovated     0\n",
       "street           0\n",
       "city             0\n",
       "statezip         0\n",
       "country          0\n",
       "dtype: int64"
      ]
     },
     "execution_count": 82,
     "metadata": {},
     "output_type": "execute_result"
    }
   ],
   "source": [
    "df.isna().sum()"
   ]
  },
  {
   "cell_type": "code",
   "execution_count": 83,
   "metadata": {},
   "outputs": [],
   "source": [
    "# date\n",
    "df['date'] = pd.to_datetime(df['date'])"
   ]
  },
  {
   "cell_type": "markdown",
   "metadata": {},
   "source": [
    "### 4.1. Price"
   ]
  },
  {
   "cell_type": "code",
   "execution_count": 84,
   "metadata": {},
   "outputs": [
    {
     "data": {
      "text/plain": [
       "<AxesSubplot:xlabel='price', ylabel='Density'>"
      ]
     },
     "execution_count": 84,
     "metadata": {},
     "output_type": "execute_result"
    },
    {
     "data": {
      "image/png": "[encoded data removed]",
      "text/plain": [
       "<Figure size 720x432 with 1 Axes>"
      ]
     },
     "metadata": {},
     "output_type": "display_data"
    }
   ],
   "source": [
    "ax=plt.figure(figsize=(10,6))\n",
    "sns.distplot(df['price'],color='green')"
   ]
  },
  {
   "cell_type": "markdown",
   "metadata": {},
   "source": [
    "Distribusi data pada kolom price adalah skewed, data-data tersebut tersebar ke sebelah kiri."
   ]
  },
  {
   "cell_type": "markdown",
   "metadata": {},
   "source": [
    "Saya akan mengelompokkan kota-kota di negara USA yang memiliki harga rumah diatas 1.5 juta dollars."
   ]
  },
  {
   "cell_type": "code",
   "execution_count": 85,
   "metadata": {},
   "outputs": [
    {
     "data": {
      "text/html": [
       "<div>\n",
       "<style scoped>\n",
       "    .dataframe tbody tr th:only-of-type {\n",
       "        vertical-align: middle;\n",
       "    }\n",
       "\n",
       "    .dataframe tbody tr th {\n",
       "        vertical-align: top;\n",
       "    }\n",
       "\n",
       "    .dataframe thead th {\n",
       "        text-align: right;\n",
       "    }\n",
       "</style>\n",
       "<table border=\"1\" class=\"dataframe\">\n",
       "  <thead>\n",
       "    <tr style=\"text-align: right;\">\n",
       "      <th></th>\n",
       "      <th>price</th>\n",
       "    </tr>\n",
       "    <tr>\n",
       "      <th>city</th>\n",
       "      <th></th>\n",
       "    </tr>\n",
       "  </thead>\n",
       "  <tbody>\n",
       "    <tr>\n",
       "      <th>Bellevue</th>\n",
       "      <td>4.919642e+07</td>\n",
       "    </tr>\n",
       "    <tr>\n",
       "      <th>Carnation</th>\n",
       "      <td>1.680000e+06</td>\n",
       "    </tr>\n",
       "    <tr>\n",
       "      <th>Clyde Hill</th>\n",
       "      <td>6.200000e+06</td>\n",
       "    </tr>\n",
       "    <tr>\n",
       "      <th>Covington</th>\n",
       "      <td>2.199900e+06</td>\n",
       "    </tr>\n",
       "    <tr>\n",
       "      <th>Fall City</th>\n",
       "      <td>3.150000e+06</td>\n",
       "    </tr>\n",
       "    <tr>\n",
       "      <th>Issaquah</th>\n",
       "      <td>4.438888e+06</td>\n",
       "    </tr>\n",
       "    <tr>\n",
       "      <th>Kent</th>\n",
       "      <td>2.659000e+07</td>\n",
       "    </tr>\n",
       "    <tr>\n",
       "      <th>Kirkland</th>\n",
       "      <td>1.361050e+07</td>\n",
       "    </tr>\n",
       "    <tr>\n",
       "      <th>Medina</th>\n",
       "      <td>1.968915e+07</td>\n",
       "    </tr>\n",
       "    <tr>\n",
       "      <th>Mercer Island</th>\n",
       "      <td>3.952346e+07</td>\n",
       "    </tr>\n",
       "    <tr>\n",
       "      <th>Redmond</th>\n",
       "      <td>3.980000e+06</td>\n",
       "    </tr>\n",
       "    <tr>\n",
       "      <th>Sammamish</th>\n",
       "      <td>4.400000e+06</td>\n",
       "    </tr>\n",
       "    <tr>\n",
       "      <th>Seattle</th>\n",
       "      <td>9.115435e+07</td>\n",
       "    </tr>\n",
       "    <tr>\n",
       "      <th>Shoreline</th>\n",
       "      <td>3.740000e+06</td>\n",
       "    </tr>\n",
       "    <tr>\n",
       "      <th>Tukwila</th>\n",
       "      <td>2.110000e+06</td>\n",
       "    </tr>\n",
       "    <tr>\n",
       "      <th>Woodinville</th>\n",
       "      <td>1.820000e+06</td>\n",
       "    </tr>\n",
       "    <tr>\n",
       "      <th>Yarrow Point</th>\n",
       "      <td>3.796000e+06</td>\n",
       "    </tr>\n",
       "  </tbody>\n",
       "</table>\n",
       "</div>"
      ],
      "text/plain": [
       "                      price\n",
       "city                       \n",
       "Bellevue       4.919642e+07\n",
       "Carnation      1.680000e+06\n",
       "Clyde Hill     6.200000e+06\n",
       "Covington      2.199900e+06\n",
       "Fall City      3.150000e+06\n",
       "Issaquah       4.438888e+06\n",
       "Kent           2.659000e+07\n",
       "Kirkland       1.361050e+07\n",
       "Medina         1.968915e+07\n",
       "Mercer Island  3.952346e+07\n",
       "Redmond        3.980000e+06\n",
       "Sammamish      4.400000e+06\n",
       "Seattle        9.115435e+07\n",
       "Shoreline      3.740000e+06\n",
       "Tukwila        2.110000e+06\n",
       "Woodinville    1.820000e+06\n",
       "Yarrow Point   3.796000e+06"
      ]
     },
     "execution_count": 85,
     "metadata": {},
     "output_type": "execute_result"
    }
   ],
   "source": [
    "city_price = df[(df['price'] > 1500000)].groupby('city').sum()[['price']]\n",
    "city_price"
   ]
  },
  {
   "cell_type": "code",
   "execution_count": 86,
   "metadata": {},
   "outputs": [
    {
     "data": {
      "image/png": "[encoded data removed]",
      "text/plain": [
       "<Figure size 720x432 with 1 Axes>"
      ]
     },
     "metadata": {},
     "output_type": "display_data"
    }
   ],
   "source": [
    "city_price.plot(kind='bar', figsize=(10,6), width=0.6)\n",
    "plt.title(\"House'price more than 1.5 million dollars\", fontsize=12)\n",
    "plt.ylabel(\"Price\")\n",
    "plt.show()"
   ]
  },
  {
   "cell_type": "markdown",
   "metadata": {},
   "source": [
    "Harga rumah yang paling mahal berada pada kota **Seattle**."
   ]
  },
  {
   "cell_type": "markdown",
   "metadata": {},
   "source": [
    "### 4.2. Date"
   ]
  },
  {
   "cell_type": "code",
   "execution_count": 87,
   "metadata": {},
   "outputs": [
    {
     "data": {
      "text/plain": [
       "2014    4600\n",
       "Name: date, dtype: int64"
      ]
     },
     "execution_count": 87,
     "metadata": {},
     "output_type": "execute_result"
    }
   ],
   "source": [
    "df['date'].dt.year.value_counts()"
   ]
  },
  {
   "cell_type": "code",
   "execution_count": 88,
   "metadata": {},
   "outputs": [
    {
     "data": {
      "text/plain": [
       "6    2179\n",
       "5    1768\n",
       "7     653\n",
       "Name: date, dtype: int64"
      ]
     },
     "execution_count": 88,
     "metadata": {},
     "output_type": "execute_result"
    }
   ],
   "source": [
    "df['date'].dt.month.value_counts()"
   ]
  },
  {
   "cell_type": "code",
   "execution_count": 89,
   "metadata": {},
   "outputs": [
    {
     "data": {
      "text/plain": [
       "<AxesSubplot:xlabel='date', ylabel='count'>"
      ]
     },
     "execution_count": 89,
     "metadata": {},
     "output_type": "execute_result"
    },
    {
     "data": {
      "image/png": "[encoded data removed]",
      "text/plain": [
       "<Figure size 1080x864 with 1 Axes>"
      ]
     },
     "metadata": {},
     "output_type": "display_data"
    }
   ],
   "source": [
    "fig = plt.figure(figsize=(15, 12))\n",
    "grid = GridSpec(ncols=1, nrows=2, figure=fig)\n",
    "\n",
    "ax1 = fig.add_subplot(grid[0, :])\n",
    "sns.countplot(x=df.date.dt.month, ax=ax1)"
   ]
  },
  {
   "cell_type": "markdown",
   "metadata": {},
   "source": [
    "Dataset ini menunjukkan bahwa orang-orang membeli rumah di negara USA terjadi di tahun 2014 bulan ke 5 samapai bulan ke 7. Terdapat bulan ke 6, orang-orang banyak membeli rumah pada bulan tersebut sejumlah 2179 rumah."
   ]
  },
  {
   "cell_type": "code",
   "execution_count": 90,
   "metadata": {},
   "outputs": [
    {
     "data": {
      "image/png": "[encoded data removed]",
      "text/plain": [
       "<Figure size 1080x720 with 1 Axes>"
      ]
     },
     "metadata": {},
     "output_type": "display_data"
    }
   ],
   "source": [
    "fig = plt.figure(figsize=(15,10))\n",
    "ax = sns.countplot(df.date.dt.day)\n",
    "ax.bar_label(ax.containers[0], fontsize=12)\n",
    "plt.show()"
   ]
  },
  {
   "cell_type": "markdown",
   "metadata": {},
   "source": [
    "Terlihat pada tanggal 9 dari bulan ke 5 sampai ke 7 di tahun 2014 paling banyak orang-orang beli rumah di negara USA."
   ]
  },
  {
   "cell_type": "markdown",
   "metadata": {},
   "source": [
    "### 4.3. Bedrooms\n",
    "\n",
    "Jumlah kamar tidur disetiap rumah di negara USA. "
   ]
  },
  {
   "cell_type": "code",
   "execution_count": 91,
   "metadata": {},
   "outputs": [
    {
     "data": {
      "image/png": "[encoded data removed]",
      "text/plain": [
       "<Figure size 864x504 with 1 Axes>"
      ]
     },
     "metadata": {},
     "output_type": "display_data"
    }
   ],
   "source": [
    "plt.figure(figsize=(12,7))\n",
    "ax = sns.countplot(df.bedrooms)\n",
    "ax.bar_label(ax.containers[0], fontsize=12)\n",
    "plt.title('Bedrooms Counts', fontsize=15)\n",
    "plt.show()"
   ]
  },
  {
   "cell_type": "markdown",
   "metadata": {},
   "source": [
    "Dominan rumah di USA memiliki 3 kamar tidur."
   ]
  },
  {
   "cell_type": "code",
   "execution_count": 92,
   "metadata": {},
   "outputs": [
    {
     "data": {
      "image/png": "[encoded data removed]",
      "text/plain": [
       "<Figure size 864x504 with 1 Axes>"
      ]
     },
     "metadata": {},
     "output_type": "display_data"
    }
   ],
   "source": [
    "plt.figure(figsize=(12,7))\n",
    "ax = sns.barplot(x=df.bedrooms, y=df.price)\n",
    "ax.bar_label(ax.containers[0], fontsize=12)\n",
    "plt.title('Price per Bedrooms', fontsize=15)\n",
    "plt.show()"
   ]
  },
  {
   "cell_type": "markdown",
   "metadata": {},
   "source": [
    "Rumah yang tidak memiliki kamar tidur lebih besar biayanya dibanding dengan rumah yang memiliki kamar tidur."
   ]
  },
  {
   "cell_type": "markdown",
   "metadata": {},
   "source": [
    "### 4.4. Bathrooms\n",
    "\n",
    "Jumlah kamar mandi disetiap rumah di negara USA."
   ]
  },
  {
   "cell_type": "code",
   "execution_count": 93,
   "metadata": {},
   "outputs": [
    {
     "data": {
      "image/png": "[encoded data removed]",
      "text/plain": [
       "<Figure size 864x504 with 1 Axes>"
      ]
     },
     "metadata": {},
     "output_type": "display_data"
    }
   ],
   "source": [
    "plt.figure(figsize=(12,7))\n",
    "ax = sns.countplot(df.bathrooms)\n",
    "ax.bar_label(ax.containers[0], fontsize=12)\n",
    "plt.title('Bathrooms Counts', fontsize=15)\n",
    "plt.show()"
   ]
  },
  {
   "cell_type": "markdown",
   "metadata": {},
   "source": [
    "Jumlah kamar mandi di rumah di negara USA paling banyak disekitar 2 kamar mandi per rumah."
   ]
  },
  {
   "cell_type": "markdown",
   "metadata": {},
   "source": [
    "### 4.5 Floors"
   ]
  },
  {
   "cell_type": "markdown",
   "metadata": {},
   "source": [
    "Disini saya akan mengubah nilai dari lantai/tingkatan rumah karena rumah yang bertingkat tidak ada yang bernilai float (nilai berkoma)."
   ]
  },
  {
   "cell_type": "code",
   "execution_count": 94,
   "metadata": {},
   "outputs": [
    {
     "data": {
      "text/html": [
       "<div>\n",
       "<style scoped>\n",
       "    .dataframe tbody tr th:only-of-type {\n",
       "        vertical-align: middle;\n",
       "    }\n",
       "\n",
       "    .dataframe tbody tr th {\n",
       "        vertical-align: top;\n",
       "    }\n",
       "\n",
       "    .dataframe thead th {\n",
       "        text-align: right;\n",
       "    }\n",
       "</style>\n",
       "<table border=\"1\" class=\"dataframe\">\n",
       "  <thead>\n",
       "    <tr style=\"text-align: right;\">\n",
       "      <th></th>\n",
       "      <th>date</th>\n",
       "      <th>price</th>\n",
       "      <th>bedrooms</th>\n",
       "      <th>bathrooms</th>\n",
       "      <th>sqft_living</th>\n",
       "      <th>sqft_lot</th>\n",
       "      <th>floors</th>\n",
       "      <th>waterfront</th>\n",
       "      <th>view</th>\n",
       "      <th>condition</th>\n",
       "      <th>sqft_above</th>\n",
       "      <th>sqft_basement</th>\n",
       "      <th>yr_built</th>\n",
       "      <th>yr_renovated</th>\n",
       "      <th>street</th>\n",
       "      <th>city</th>\n",
       "      <th>statezip</th>\n",
       "      <th>country</th>\n",
       "    </tr>\n",
       "  </thead>\n",
       "  <tbody>\n",
       "    <tr>\n",
       "      <th>0</th>\n",
       "      <td>2014-05-02</td>\n",
       "      <td>313000.0</td>\n",
       "      <td>3.0</td>\n",
       "      <td>1.5</td>\n",
       "      <td>1340</td>\n",
       "      <td>7912</td>\n",
       "      <td>1</td>\n",
       "      <td>0</td>\n",
       "      <td>0</td>\n",
       "      <td>3</td>\n",
       "      <td>1340</td>\n",
       "      <td>0</td>\n",
       "      <td>1955</td>\n",
       "      <td>2005</td>\n",
       "      <td>18810 Densmore Ave N</td>\n",
       "      <td>Shoreline</td>\n",
       "      <td>WA 98133</td>\n",
       "      <td>USA</td>\n",
       "    </tr>\n",
       "    <tr>\n",
       "      <th>1</th>\n",
       "      <td>2014-05-02</td>\n",
       "      <td>2384000.0</td>\n",
       "      <td>5.0</td>\n",
       "      <td>2.5</td>\n",
       "      <td>3650</td>\n",
       "      <td>9050</td>\n",
       "      <td>2</td>\n",
       "      <td>0</td>\n",
       "      <td>4</td>\n",
       "      <td>5</td>\n",
       "      <td>3370</td>\n",
       "      <td>280</td>\n",
       "      <td>1921</td>\n",
       "      <td>0</td>\n",
       "      <td>709 W Blaine St</td>\n",
       "      <td>Seattle</td>\n",
       "      <td>WA 98119</td>\n",
       "      <td>USA</td>\n",
       "    </tr>\n",
       "    <tr>\n",
       "      <th>2</th>\n",
       "      <td>2014-05-02</td>\n",
       "      <td>342000.0</td>\n",
       "      <td>3.0</td>\n",
       "      <td>2.0</td>\n",
       "      <td>1930</td>\n",
       "      <td>11947</td>\n",
       "      <td>1</td>\n",
       "      <td>0</td>\n",
       "      <td>0</td>\n",
       "      <td>4</td>\n",
       "      <td>1930</td>\n",
       "      <td>0</td>\n",
       "      <td>1966</td>\n",
       "      <td>0</td>\n",
       "      <td>26206-26214 143rd Ave SE</td>\n",
       "      <td>Kent</td>\n",
       "      <td>WA 98042</td>\n",
       "      <td>USA</td>\n",
       "    </tr>\n",
       "  </tbody>\n",
       "</table>\n",
       "</div>"
      ],
      "text/plain": [
       "        date      price  bedrooms  bathrooms  sqft_living  sqft_lot  floors  \\\n",
       "0 2014-05-02   313000.0       3.0        1.5         1340      7912       1   \n",
       "1 2014-05-02  2384000.0       5.0        2.5         3650      9050       2   \n",
       "2 2014-05-02   342000.0       3.0        2.0         1930     11947       1   \n",
       "\n",
       "   waterfront  view  condition  sqft_above  sqft_basement  yr_built  \\\n",
       "0           0     0          3        1340              0      1955   \n",
       "1           0     4          5        3370            280      1921   \n",
       "2           0     0          4        1930              0      1966   \n",
       "\n",
       "   yr_renovated                    street       city  statezip country  \n",
       "0          2005      18810 Densmore Ave N  Shoreline  WA 98133     USA  \n",
       "1             0           709 W Blaine St    Seattle  WA 98119     USA  \n",
       "2             0  26206-26214 143rd Ave SE       Kent  WA 98042     USA  "
      ]
     },
     "execution_count": 94,
     "metadata": {},
     "output_type": "execute_result"
    }
   ],
   "source": [
    "mask_floors = {1: 1, 1.5 : 1, 2:2, 2.5:2, 3:3, 3.5:3}\n",
    "new_df = df.copy()\n",
    "new_df['floors'] = new_df['floors'].map(mask_floors)\n",
    "new_df.head(3)"
   ]
  },
  {
   "cell_type": "code",
   "execution_count": 95,
   "metadata": {},
   "outputs": [
    {
     "data": {
      "text/plain": [
       "1    2618\n",
       "2    1852\n",
       "3     130\n",
       "Name: floors, dtype: int64"
      ]
     },
     "execution_count": 95,
     "metadata": {},
     "output_type": "execute_result"
    }
   ],
   "source": [
    "new_df.floors.value_counts()"
   ]
  },
  {
   "cell_type": "code",
   "execution_count": 96,
   "metadata": {},
   "outputs": [
    {
     "data": {
      "image/png": "[encoded data removed]",
      "text/plain": [
       "<Figure size 864x504 with 1 Axes>"
      ]
     },
     "metadata": {},
     "output_type": "display_data"
    }
   ],
   "source": [
    "plt.figure(figsize=(12,7))\n",
    "ax = sns.barplot(x=new_df.floors, y=new_df.price)\n",
    "ax.bar_label(ax.containers[0], fontsize=12)\n",
    "plt.title(\"House's Price per Floors\", fontsize=15)\n",
    "plt.show()"
   ]
  },
  {
   "cell_type": "markdown",
   "metadata": {},
   "source": [
    "Harga rumah bertingkat 2 lebih mahal dibanding dengan rumah bertingkat 3 maupun bertingkat 1."
   ]
  },
  {
   "cell_type": "markdown",
   "metadata": {},
   "source": [
    "### 4.6. Condition\n",
    "\n",
    "Kondisi rumah di negara USA :\n",
    "1. Buruk\n",
    "2. Kurang Bagus\n",
    "3. Cukup Bagus\n",
    "4. Bagus\n",
    "5. Sangat Bagus"
   ]
  },
  {
   "cell_type": "code",
   "execution_count": 97,
   "metadata": {},
   "outputs": [
    {
     "data": {
      "image/png": "[encoded data removed]",
      "text/plain": [
       "<Figure size 864x504 with 1 Axes>"
      ]
     },
     "metadata": {},
     "output_type": "display_data"
    }
   ],
   "source": [
    "plt.figure(figsize=(12,7))\n",
    "ax = sns.countplot(new_df.condition)\n",
    "ax.bar_label(ax.containers[0], fontsize=12)\n",
    "plt.title(\"House's Condition\", fontsize=15)\n",
    "plt.show()"
   ]
  },
  {
   "cell_type": "markdown",
   "metadata": {},
   "source": [
    "Kondisi rumah di negara USA kebanyakan cukup bagus untuk ditinggali oleh konsumen."
   ]
  },
  {
   "cell_type": "markdown",
   "metadata": {},
   "source": [
    "### 4.7. Renovasi"
   ]
  },
  {
   "cell_type": "code",
   "execution_count": 98,
   "metadata": {},
   "outputs": [
    {
     "data": {
      "text/plain": [
       "<AxesSubplot:xlabel='yr_renovated', ylabel='Count'>"
      ]
     },
     "execution_count": 98,
     "metadata": {},
     "output_type": "execute_result"
    },
    {
     "data": {
      "image/png": "[encoded data removed]",
      "text/plain": [
       "<Figure size 1296x576 with 1 Axes>"
      ]
     },
     "metadata": {},
     "output_type": "display_data"
    }
   ],
   "source": [
    "sns.histplot(new_df.yr_renovated, kde=True)"
   ]
  },
  {
   "cell_type": "markdown",
   "metadata": {},
   "source": [
    "Jika rumah sudah pernah direnovasi bernilai 1, dan belum direnovasi bernilai 0."
   ]
  },
  {
   "cell_type": "code",
   "execution_count": 99,
   "metadata": {},
   "outputs": [
    {
     "name": "stdout",
     "output_type": "stream",
     "text": [
      "0    2735\n",
      "1    1865\n",
      "Name: yr_renovated, dtype: int64\n"
     ]
    }
   ],
   "source": [
    "new_df.yr_renovated = new_df.yr_renovated.apply(lambda x: 0 if x==0 else 1)\n",
    "print(new_df.yr_renovated.value_counts())"
   ]
  },
  {
   "cell_type": "code",
   "execution_count": 100,
   "metadata": {},
   "outputs": [
    {
     "data": {
      "image/png": "[encoded data removed]",
      "text/plain": [
       "<Figure size 864x504 with 1 Axes>"
      ]
     },
     "metadata": {},
     "output_type": "display_data"
    }
   ],
   "source": [
    "plt.figure(figsize=(12,7))\n",
    "ax = sns.countplot(x=new_df.yr_renovated)\n",
    "ax.bar_label(ax.containers[0], fontsize=12)\n",
    "plt.title(\"House's Price Before vs After Renovated\", fontsize=15)\n",
    "plt.show()"
   ]
  },
  {
   "cell_type": "markdown",
   "metadata": {},
   "source": [
    "Rumah yang sudah direnovasi lebih sedikit dibanding dengan rumah yang masih utuh (belum pernah direnovasi). Biasanya rumah direnovasi dikarenakan keadaan rumah yang sebelumnya ditinggali oleh orang lain ada beberapa kerusakan atau umur rumah tersebut sudah terlalu lama sehingga terjadi kerusakan dari faktor alam."
   ]
  },
  {
   "cell_type": "markdown",
   "metadata": {},
   "source": [
    "### 4.8. City"
   ]
  },
  {
   "cell_type": "markdown",
   "metadata": {},
   "source": [
    "Disini saya akan melihat 10 kota yang memiliki rumah paling banyak."
   ]
  },
  {
   "cell_type": "code",
   "execution_count": 101,
   "metadata": {},
   "outputs": [
    {
     "data": {
      "text/plain": [
       "Seattle        1573\n",
       "Renton          293\n",
       "Bellevue        286\n",
       "Redmond         235\n",
       "Issaquah        187\n",
       "Kirkland        187\n",
       "Kent            185\n",
       "Auburn          176\n",
       "Sammamish       175\n",
       "Federal Way     148\n",
       "Name: city, dtype: int64"
      ]
     },
     "execution_count": 101,
     "metadata": {},
     "output_type": "execute_result"
    }
   ],
   "source": [
    "top_10_city = new_df['city'].value_counts().sort_values(ascending=False).head(10)\n",
    "top_10_city"
   ]
  },
  {
   "cell_type": "code",
   "execution_count": 102,
   "metadata": {},
   "outputs": [
    {
     "data": {
      "text/plain": [
       "<AxesSubplot:ylabel='city'>"
      ]
     },
     "execution_count": 102,
     "metadata": {},
     "output_type": "execute_result"
    },
    {
     "data": {
      "image/png": "[encoded data removed]",
      "text/plain": [
       "<Figure size 864x576 with 1 Axes>"
      ]
     },
     "metadata": {},
     "output_type": "display_data"
    }
   ],
   "source": [
    "plt.figure(figsize=(12,8))\n",
    "top_10_city.plot.pie(autopct='%1.1f%%', startangle=45)"
   ]
  },
  {
   "cell_type": "markdown",
   "metadata": {},
   "source": [
    "Kota Seattle memiliki rumah paling banyak dibandingkan dengan kota-kota lain di negara USA."
   ]
  },
  {
   "cell_type": "markdown",
   "metadata": {},
   "source": [
    "### 4.9. Square footage\n",
    "\n",
    "Ukuran luas rumah."
   ]
  },
  {
   "cell_type": "code",
   "execution_count": 103,
   "metadata": {},
   "outputs": [
    {
     "data": {
      "text/plain": [
       "Index(['sqft_living', 'sqft_lot', 'sqft_above', 'sqft_basement'], dtype='object')"
      ]
     },
     "execution_count": 103,
     "metadata": {},
     "output_type": "execute_result"
    }
   ],
   "source": [
    "sqft_cols = new_df.columns[new_df.columns.str.contains('sqft')]\n",
    "sqft_cols"
   ]
  },
  {
   "cell_type": "code",
   "execution_count": 104,
   "metadata": {},
   "outputs": [],
   "source": [
    "def show_count_plots(df, cols):\n",
    "    fig = plt.figure(figsize=(10,10))\n",
    "    grid = GridSpec(ncols=2, nrows=2, figure=fig)\n",
    "    for i, name in enumerate(cols):\n",
    "        ax = fig.add_subplot(grid[i])\n",
    "        sns.histplot(df[name], kde=True, ax=ax)"
   ]
  },
  {
   "cell_type": "code",
   "execution_count": 105,
   "metadata": {},
   "outputs": [
    {
     "data": {
      "image/png": "[encoded data removed]",
      "text/plain": [
       "<Figure size 720x720 with 4 Axes>"
      ]
     },
     "metadata": {},
     "output_type": "display_data"
    }
   ],
   "source": [
    "show_count_plots(new_df, sqft_cols)"
   ]
  },
  {
   "cell_type": "markdown",
   "metadata": {},
   "source": [
    "Berikut ini adalah visualisasi persebaran data pada kolom sqft (Square footage) :\n",
    "- sqft_living (luas ruang tamu) : Banyak Rumah yang memiliki ukuran luas ruang tamu diantara 0 - 5000 meter persegi. Maksimal luas ruang tamu pada rumah di USA adalah sekitar 12500 meter persegi.\n",
    "- sqft_lot (luas halaman rumah) : Beberapa rumah tidak memiliki halaman rumah (sisa luas tanah selain luas rumah), sehingga di grafik menunjukkan sqft_lot dominan bernilai 0.\n",
    "- sqft_above (luas tanah keseluruhan) : Kebanyakan rumah memiliki luas tanah disekitar 500 - 5000 meter persegi. Maksimal luas tanah pada rumah di USA adalah sekitar 10000 meter persegi.\n",
    "- sqft_basement (luas ruang bawah tanah) : Tidak semua rumah di USA memiliki ruangan bawah tanah, inilah alasan kenapa nilai sqrt_basement lebih banyak bernilai 0."
   ]
  },
  {
   "cell_type": "markdown",
   "metadata": {},
   "source": [
    "### 4.9. Korelasi antar kolom"
   ]
  },
  {
   "cell_type": "code",
   "execution_count": 106,
   "metadata": {},
   "outputs": [
    {
     "data": {
      "text/plain": [
       "<AxesSubplot:>"
      ]
     },
     "execution_count": 106,
     "metadata": {},
     "output_type": "execute_result"
    },
    {
     "data": {
      "image/png": "[encoded data removed]",
      "text/plain": [
       "<Figure size 1296x576 with 2 Axes>"
      ]
     },
     "metadata": {},
     "output_type": "display_data"
    }
   ],
   "source": [
    "sns.set(rc={'figure.figsize':(18,8)})\n",
    "sns.heatmap(new_df.corr(), annot=True, cmap='Blues')"
   ]
  },
  {
   "cell_type": "markdown",
   "metadata": {},
   "source": [
    "Analisis korelasi :\n",
    "- Kolom price dipengaruhi oleh beberapa kolom yang akan dijadikan feature nantinya seperti, `bedrooms`, `bathroom`, dan `sqft` (Square footage = luas tanah).\n",
    "- Di dunia nyata, biasanya penentuan harga rumah bisa dilihat dari luas tanah rumah, jumlah tingkat (floors), biaya rumah setelah direnovasi (yr_renovated) dan kondisi rumah."
   ]
  },
  {
   "cell_type": "markdown",
   "metadata": {},
   "source": [
    "# 5. Data Preprocessing\n",
    "\n",
    "Bagian ini berisi proses penyiapan data untuk proses pelatihan model, seperti pembagian data menjadi train-test-inference, transformasi data (normalisasi, encoding, dll.), dan proses-proses lain yang dibutuhkan.\n",
    "\n"
   ]
  },
  {
   "cell_type": "markdown",
   "metadata": {},
   "source": [
    "Kita akan membagi dataset menjadi dua, yaitu : Dataset Train-test sebagai membuat model dan Data Inference sebagai data diluar dari dataset yang digunakan untuk menguji model atau disebut juga sebagai data prediksi. Data Inference diambil 100 baris dari data original."
   ]
  },
  {
   "cell_type": "code",
   "execution_count": 107,
   "metadata": {},
   "outputs": [
    {
     "data": {
      "text/html": [
       "<div>\n",
       "<style scoped>\n",
       "    .dataframe tbody tr th:only-of-type {\n",
       "        vertical-align: middle;\n",
       "    }\n",
       "\n",
       "    .dataframe tbody tr th {\n",
       "        vertical-align: top;\n",
       "    }\n",
       "\n",
       "    .dataframe thead th {\n",
       "        text-align: right;\n",
       "    }\n",
       "</style>\n",
       "<table border=\"1\" class=\"dataframe\">\n",
       "  <thead>\n",
       "    <tr style=\"text-align: right;\">\n",
       "      <th></th>\n",
       "      <th>date</th>\n",
       "      <th>price</th>\n",
       "      <th>bedrooms</th>\n",
       "      <th>bathrooms</th>\n",
       "      <th>sqft_living</th>\n",
       "      <th>sqft_lot</th>\n",
       "      <th>floors</th>\n",
       "      <th>waterfront</th>\n",
       "      <th>view</th>\n",
       "      <th>condition</th>\n",
       "      <th>sqft_above</th>\n",
       "      <th>sqft_basement</th>\n",
       "      <th>yr_built</th>\n",
       "      <th>yr_renovated</th>\n",
       "      <th>street</th>\n",
       "      <th>city</th>\n",
       "      <th>statezip</th>\n",
       "      <th>country</th>\n",
       "    </tr>\n",
       "  </thead>\n",
       "  <tbody>\n",
       "    <tr>\n",
       "      <th>1567</th>\n",
       "      <td>2014-05-29</td>\n",
       "      <td>3100000.0</td>\n",
       "      <td>6.0</td>\n",
       "      <td>4.25</td>\n",
       "      <td>6980</td>\n",
       "      <td>15682</td>\n",
       "      <td>3</td>\n",
       "      <td>0</td>\n",
       "      <td>4</td>\n",
       "      <td>4</td>\n",
       "      <td>5330</td>\n",
       "      <td>1650</td>\n",
       "      <td>1999</td>\n",
       "      <td>0</td>\n",
       "      <td>5243 Forest Ave SE</td>\n",
       "      <td>Mercer Island</td>\n",
       "      <td>WA 98040</td>\n",
       "      <td>USA</td>\n",
       "    </tr>\n",
       "    <tr>\n",
       "      <th>1490</th>\n",
       "      <td>2014-05-28</td>\n",
       "      <td>425000.0</td>\n",
       "      <td>4.0</td>\n",
       "      <td>2.75</td>\n",
       "      <td>1680</td>\n",
       "      <td>9545</td>\n",
       "      <td>1</td>\n",
       "      <td>0</td>\n",
       "      <td>0</td>\n",
       "      <td>4</td>\n",
       "      <td>1080</td>\n",
       "      <td>600</td>\n",
       "      <td>1979</td>\n",
       "      <td>0</td>\n",
       "      <td>7220 NE 152nd Pl</td>\n",
       "      <td>Kenmore</td>\n",
       "      <td>WA 98028</td>\n",
       "      <td>USA</td>\n",
       "    </tr>\n",
       "    <tr>\n",
       "      <th>580</th>\n",
       "      <td>2014-05-13</td>\n",
       "      <td>591000.0</td>\n",
       "      <td>4.0</td>\n",
       "      <td>2.25</td>\n",
       "      <td>2710</td>\n",
       "      <td>38180</td>\n",
       "      <td>2</td>\n",
       "      <td>0</td>\n",
       "      <td>0</td>\n",
       "      <td>4</td>\n",
       "      <td>2710</td>\n",
       "      <td>0</td>\n",
       "      <td>1977</td>\n",
       "      <td>0</td>\n",
       "      <td>19615 182nd Ave NE</td>\n",
       "      <td>Woodinville</td>\n",
       "      <td>WA 98077</td>\n",
       "      <td>USA</td>\n",
       "    </tr>\n",
       "    <tr>\n",
       "      <th>4207</th>\n",
       "      <td>2014-07-09</td>\n",
       "      <td>215000.0</td>\n",
       "      <td>4.0</td>\n",
       "      <td>1.50</td>\n",
       "      <td>1860</td>\n",
       "      <td>5040</td>\n",
       "      <td>1</td>\n",
       "      <td>0</td>\n",
       "      <td>0</td>\n",
       "      <td>5</td>\n",
       "      <td>1860</td>\n",
       "      <td>0</td>\n",
       "      <td>1920</td>\n",
       "      <td>0</td>\n",
       "      <td>1730 Washington Ave</td>\n",
       "      <td>Enumclaw</td>\n",
       "      <td>WA 98022</td>\n",
       "      <td>USA</td>\n",
       "    </tr>\n",
       "    <tr>\n",
       "      <th>1992</th>\n",
       "      <td>2014-06-05</td>\n",
       "      <td>453500.0</td>\n",
       "      <td>4.0</td>\n",
       "      <td>1.75</td>\n",
       "      <td>2000</td>\n",
       "      <td>6032</td>\n",
       "      <td>1</td>\n",
       "      <td>0</td>\n",
       "      <td>2</td>\n",
       "      <td>3</td>\n",
       "      <td>1300</td>\n",
       "      <td>700</td>\n",
       "      <td>1959</td>\n",
       "      <td>1</td>\n",
       "      <td>4404 SW 101st St</td>\n",
       "      <td>Seattle</td>\n",
       "      <td>WA 98146</td>\n",
       "      <td>USA</td>\n",
       "    </tr>\n",
       "    <tr>\n",
       "      <th>...</th>\n",
       "      <td>...</td>\n",
       "      <td>...</td>\n",
       "      <td>...</td>\n",
       "      <td>...</td>\n",
       "      <td>...</td>\n",
       "      <td>...</td>\n",
       "      <td>...</td>\n",
       "      <td>...</td>\n",
       "      <td>...</td>\n",
       "      <td>...</td>\n",
       "      <td>...</td>\n",
       "      <td>...</td>\n",
       "      <td>...</td>\n",
       "      <td>...</td>\n",
       "      <td>...</td>\n",
       "      <td>...</td>\n",
       "      <td>...</td>\n",
       "      <td>...</td>\n",
       "    </tr>\n",
       "    <tr>\n",
       "      <th>248</th>\n",
       "      <td>2014-05-07</td>\n",
       "      <td>560000.0</td>\n",
       "      <td>3.0</td>\n",
       "      <td>3.00</td>\n",
       "      <td>4120</td>\n",
       "      <td>60392</td>\n",
       "      <td>2</td>\n",
       "      <td>0</td>\n",
       "      <td>2</td>\n",
       "      <td>3</td>\n",
       "      <td>3180</td>\n",
       "      <td>940</td>\n",
       "      <td>1994</td>\n",
       "      <td>0</td>\n",
       "      <td>32223 NE 88th St</td>\n",
       "      <td>Carnation</td>\n",
       "      <td>WA 98014</td>\n",
       "      <td>USA</td>\n",
       "    </tr>\n",
       "    <tr>\n",
       "      <th>3528</th>\n",
       "      <td>2014-06-27</td>\n",
       "      <td>140000.0</td>\n",
       "      <td>3.0</td>\n",
       "      <td>1.00</td>\n",
       "      <td>1060</td>\n",
       "      <td>7473</td>\n",
       "      <td>1</td>\n",
       "      <td>0</td>\n",
       "      <td>0</td>\n",
       "      <td>3</td>\n",
       "      <td>1060</td>\n",
       "      <td>0</td>\n",
       "      <td>1959</td>\n",
       "      <td>1</td>\n",
       "      <td>25826 19th Ave S</td>\n",
       "      <td>Des Moines</td>\n",
       "      <td>WA 98198</td>\n",
       "      <td>USA</td>\n",
       "    </tr>\n",
       "    <tr>\n",
       "      <th>563</th>\n",
       "      <td>2014-05-13</td>\n",
       "      <td>415000.0</td>\n",
       "      <td>3.0</td>\n",
       "      <td>1.75</td>\n",
       "      <td>1960</td>\n",
       "      <td>5000</td>\n",
       "      <td>1</td>\n",
       "      <td>0</td>\n",
       "      <td>0</td>\n",
       "      <td>5</td>\n",
       "      <td>980</td>\n",
       "      <td>980</td>\n",
       "      <td>1911</td>\n",
       "      <td>1</td>\n",
       "      <td>4958 12th Ave S</td>\n",
       "      <td>Seattle</td>\n",
       "      <td>WA 98108</td>\n",
       "      <td>USA</td>\n",
       "    </tr>\n",
       "    <tr>\n",
       "      <th>3268</th>\n",
       "      <td>2014-06-24</td>\n",
       "      <td>415000.0</td>\n",
       "      <td>3.0</td>\n",
       "      <td>2.50</td>\n",
       "      <td>2280</td>\n",
       "      <td>6031</td>\n",
       "      <td>2</td>\n",
       "      <td>0</td>\n",
       "      <td>0</td>\n",
       "      <td>3</td>\n",
       "      <td>2280</td>\n",
       "      <td>0</td>\n",
       "      <td>2011</td>\n",
       "      <td>0</td>\n",
       "      <td>27927 NE 147th Cir</td>\n",
       "      <td>Duvall</td>\n",
       "      <td>WA 98019</td>\n",
       "      <td>USA</td>\n",
       "    </tr>\n",
       "    <tr>\n",
       "      <th>828</th>\n",
       "      <td>2014-05-16</td>\n",
       "      <td>730100.0</td>\n",
       "      <td>4.0</td>\n",
       "      <td>2.50</td>\n",
       "      <td>3120</td>\n",
       "      <td>14300</td>\n",
       "      <td>2</td>\n",
       "      <td>0</td>\n",
       "      <td>0</td>\n",
       "      <td>3</td>\n",
       "      <td>3120</td>\n",
       "      <td>0</td>\n",
       "      <td>2003</td>\n",
       "      <td>0</td>\n",
       "      <td>120 Mt Si Pl NW</td>\n",
       "      <td>Issaquah</td>\n",
       "      <td>WA 98027</td>\n",
       "      <td>USA</td>\n",
       "    </tr>\n",
       "  </tbody>\n",
       "</table>\n",
       "<p>100 rows × 18 columns</p>\n",
       "</div>"
      ],
      "text/plain": [
       "           date      price  bedrooms  bathrooms  sqft_living  sqft_lot  \\\n",
       "1567 2014-05-29  3100000.0       6.0       4.25         6980     15682   \n",
       "1490 2014-05-28   425000.0       4.0       2.75         1680      9545   \n",
       "580  2014-05-13   591000.0       4.0       2.25         2710     38180   \n",
       "4207 2014-07-09   215000.0       4.0       1.50         1860      5040   \n",
       "1992 2014-06-05   453500.0       4.0       1.75         2000      6032   \n",
       "...         ...        ...       ...        ...          ...       ...   \n",
       "248  2014-05-07   560000.0       3.0       3.00         4120     60392   \n",
       "3528 2014-06-27   140000.0       3.0       1.00         1060      7473   \n",
       "563  2014-05-13   415000.0       3.0       1.75         1960      5000   \n",
       "3268 2014-06-24   415000.0       3.0       2.50         2280      6031   \n",
       "828  2014-05-16   730100.0       4.0       2.50         3120     14300   \n",
       "\n",
       "      floors  waterfront  view  condition  sqft_above  sqft_basement  \\\n",
       "1567       3           0     4          4        5330           1650   \n",
       "1490       1           0     0          4        1080            600   \n",
       "580        2           0     0          4        2710              0   \n",
       "4207       1           0     0          5        1860              0   \n",
       "1992       1           0     2          3        1300            700   \n",
       "...      ...         ...   ...        ...         ...            ...   \n",
       "248        2           0     2          3        3180            940   \n",
       "3528       1           0     0          3        1060              0   \n",
       "563        1           0     0          5         980            980   \n",
       "3268       2           0     0          3        2280              0   \n",
       "828        2           0     0          3        3120              0   \n",
       "\n",
       "      yr_built  yr_renovated               street           city  statezip  \\\n",
       "1567      1999             0   5243 Forest Ave SE  Mercer Island  WA 98040   \n",
       "1490      1979             0     7220 NE 152nd Pl        Kenmore  WA 98028   \n",
       "580       1977             0   19615 182nd Ave NE    Woodinville  WA 98077   \n",
       "4207      1920             0  1730 Washington Ave       Enumclaw  WA 98022   \n",
       "1992      1959             1     4404 SW 101st St        Seattle  WA 98146   \n",
       "...        ...           ...                  ...            ...       ...   \n",
       "248       1994             0     32223 NE 88th St      Carnation  WA 98014   \n",
       "3528      1959             1     25826 19th Ave S     Des Moines  WA 98198   \n",
       "563       1911             1      4958 12th Ave S        Seattle  WA 98108   \n",
       "3268      2011             0   27927 NE 147th Cir         Duvall  WA 98019   \n",
       "828       2003             0      120 Mt Si Pl NW       Issaquah  WA 98027   \n",
       "\n",
       "     country  \n",
       "1567     USA  \n",
       "1490     USA  \n",
       "580      USA  \n",
       "4207     USA  \n",
       "1992     USA  \n",
       "...      ...  \n",
       "248      USA  \n",
       "3528     USA  \n",
       "563      USA  \n",
       "3268     USA  \n",
       "828      USA  \n",
       "\n",
       "[100 rows x 18 columns]"
      ]
     },
     "execution_count": 107,
     "metadata": {},
     "output_type": "execute_result"
    }
   ],
   "source": [
    "df_inf = new_df.sample(100, random_state=17)\n",
    "df_inf"
   ]
  },
  {
   "cell_type": "code",
   "execution_count": 108,
   "metadata": {},
   "outputs": [],
   "source": [
    "df_train_test = new_df.drop(df_inf.index)\n",
    "\n",
    "# reset index\n",
    "df_train_test.reset_index(drop=True, inplace=True)\n",
    "df_inf.reset_index(drop=True, inplace=True)"
   ]
  },
  {
   "cell_type": "markdown",
   "metadata": {},
   "source": [
    "### 5.1. Split Dataset\n",
    "\n",
    "Definisikan variabel X sebagai data yang akan digunakan sebagai alat prediksi dan variabel y sebagai data yang akan diprediksi. "
   ]
  },
  {
   "cell_type": "markdown",
   "metadata": {},
   "source": [
    "Label yang akan diprediksi adalah kolom price yang mana disini saya memprediksikan harga rumah di negara USA."
   ]
  },
  {
   "cell_type": "code",
   "execution_count": 109,
   "metadata": {},
   "outputs": [],
   "source": [
    "# Split X dan y\n",
    "\n",
    "X = df_train_test.drop(['price'], axis=1) # Features = alat/kolom untuk membuat prediksi\n",
    "y = df_train_test['price'] # target = sesuatu yang akan diprediksi"
   ]
  },
  {
   "cell_type": "code",
   "execution_count": 110,
   "metadata": {},
   "outputs": [
    {
     "name": "stdout",
     "output_type": "stream",
     "text": [
      "(3600, 17)\n",
      "(900, 17)\n",
      "(3600,)\n",
      "(900,)\n"
     ]
    }
   ],
   "source": [
    "X_train, X_test, y_train, y_test = train_test_split(X, y, test_size=0.20, random_state=17) \n",
    "\n",
    "print(X_train.shape)\n",
    "print(X_test.shape)\n",
    "print(y_train.shape)\n",
    "print(y_test.shape)"
   ]
  },
  {
   "cell_type": "markdown",
   "metadata": {},
   "source": [
    "### 5.2. Outliers\n",
    "\n",
    "Mengecek outliers pada data Train"
   ]
  },
  {
   "cell_type": "code",
   "execution_count": 111,
   "metadata": {},
   "outputs": [],
   "source": [
    "# Buat fungsi untuk mencetak histogram dan boxplot\n",
    "def diagnostic_plots(df, variable):\n",
    "    # Define figure size\n",
    "    plt.figure(figsize=(16, 4))\n",
    "\n",
    "    # Histogram\n",
    "    plt.subplot(1, 2, 1)\n",
    "    sns.histplot(df[variable], bins=30)\n",
    "    plt.title('Histogram')\n",
    "\n",
    "    # Boxplot\n",
    "    plt.subplot(1, 2, 2)\n",
    "    sns.boxplot(y=df[variable])\n",
    "    plt.title('Boxplot')\n",
    "\n",
    "    plt.show()"
   ]
  },
  {
   "cell_type": "code",
   "execution_count": 112,
   "metadata": {},
   "outputs": [
    {
     "name": "stdout",
     "output_type": "stream",
     "text": [
      "Outliers sebelum di handling\n"
     ]
    },
    {
     "data": {
      "image/png": "[encoded data removed]",
      "text/plain": [
       "<Figure size 1152x288 with 2 Axes>"
      ]
     },
     "metadata": {},
     "output_type": "display_data"
    },
    {
     "name": "stdout",
     "output_type": "stream",
     "text": [
      "Skewness : 0.4059595526719426\n"
     ]
    },
    {
     "data": {
      "image/png": "[encoded data removed]",
      "text/plain": [
       "<Figure size 1152x288 with 2 Axes>"
      ]
     },
     "metadata": {},
     "output_type": "display_data"
    },
    {
     "name": "stdout",
     "output_type": "stream",
     "text": [
      "Skewness : 0.5871564089523618\n"
     ]
    },
    {
     "data": {
      "image/png": "[encoded data removed]",
      "text/plain": [
       "<Figure size 1152x288 with 2 Axes>"
      ]
     },
     "metadata": {},
     "output_type": "display_data"
    },
    {
     "name": "stdout",
     "output_type": "stream",
     "text": [
      "Skewness : 1.7103698168221244\n"
     ]
    },
    {
     "data": {
      "image/png": "[encoded data removed]",
      "text/plain": [
       "<Figure size 1152x288 with 2 Axes>"
      ]
     },
     "metadata": {},
     "output_type": "display_data"
    },
    {
     "name": "stdout",
     "output_type": "stream",
     "text": [
      "Skewness : 11.686138046840936\n"
     ]
    },
    {
     "data": {
      "image/png": "[encoded data removed]",
      "text/plain": [
       "<Figure size 1152x288 with 2 Axes>"
      ]
     },
     "metadata": {},
     "output_type": "display_data"
    },
    {
     "name": "stdout",
     "output_type": "stream",
     "text": [
      "Skewness : 0.6665705515367889\n"
     ]
    },
    {
     "data": {
      "image/png": "[encoded data removed]",
      "text/plain": [
       "<Figure size 1152x288 with 2 Axes>"
      ]
     },
     "metadata": {},
     "output_type": "display_data"
    },
    {
     "name": "stdout",
     "output_type": "stream",
     "text": [
      "Skewness : 11.879586943001772\n"
     ]
    },
    {
     "data": {
      "image/png": "[encoded data removed]",
      "text/plain": [
       "<Figure size 1152x288 with 2 Axes>"
      ]
     },
     "metadata": {},
     "output_type": "display_data"
    },
    {
     "name": "stdout",
     "output_type": "stream",
     "text": [
      "Skewness : 3.3672085017567617\n"
     ]
    },
    {
     "data": {
      "image/png": "[encoded data removed]",
      "text/plain": [
       "<Figure size 1152x288 with 2 Axes>"
      ]
     },
     "metadata": {},
     "output_type": "display_data"
    },
    {
     "name": "stdout",
     "output_type": "stream",
     "text": [
      "Skewness : 1.032510418764518\n"
     ]
    },
    {
     "data": {
      "image/png": "[encoded data removed]",
      "text/plain": [
       "<Figure size 1152x288 with 2 Axes>"
      ]
     },
     "metadata": {},
     "output_type": "display_data"
    },
    {
     "name": "stdout",
     "output_type": "stream",
     "text": [
      "Skewness : 1.5052807451297452\n"
     ]
    },
    {
     "data": {
      "image/png": "[encoded data removed]",
      "text/plain": [
       "<Figure size 1152x288 with 2 Axes>"
      ]
     },
     "metadata": {},
     "output_type": "display_data"
    },
    {
     "name": "stdout",
     "output_type": "stream",
     "text": [
      "Skewness : 1.5202597595796181\n"
     ]
    },
    {
     "data": {
      "image/png": "[encoded data removed]",
      "text/plain": [
       "<Figure size 1152x288 with 2 Axes>"
      ]
     },
     "metadata": {},
     "output_type": "display_data"
    },
    {
     "name": "stdout",
     "output_type": "stream",
     "text": [
      "Skewness : -0.48398492813727456\n"
     ]
    },
    {
     "data": {
      "image/png": "[encoded data removed]",
      "text/plain": [
       "<Figure size 1152x288 with 2 Axes>"
      ]
     },
     "metadata": {},
     "output_type": "display_data"
    },
    {
     "name": "stdout",
     "output_type": "stream",
     "text": [
      "Skewness : 0.35214147729899903\n"
     ]
    }
   ],
   "source": [
    "print('Outliers sebelum di handling')\n",
    "for cols in X_train.describe().columns:\n",
    "    diagnostic_plots(X_train, cols)\n",
    "    print('Skewness :', X_train[cols].skew())"
   ]
  },
  {
   "cell_type": "code",
   "execution_count": 113,
   "metadata": {},
   "outputs": [
    {
     "data": {
      "text/html": [
       "<div>\n",
       "<style scoped>\n",
       "    .dataframe tbody tr th:only-of-type {\n",
       "        vertical-align: middle;\n",
       "    }\n",
       "\n",
       "    .dataframe tbody tr th {\n",
       "        vertical-align: top;\n",
       "    }\n",
       "\n",
       "    .dataframe thead th {\n",
       "        text-align: right;\n",
       "    }\n",
       "</style>\n",
       "<table border=\"1\" class=\"dataframe\">\n",
       "  <thead>\n",
       "    <tr style=\"text-align: right;\">\n",
       "      <th></th>\n",
       "      <th>column</th>\n",
       "      <th>skew</th>\n",
       "      <th>distribution</th>\n",
       "    </tr>\n",
       "  </thead>\n",
       "  <tbody>\n",
       "    <tr>\n",
       "      <th>0</th>\n",
       "      <td>bedrooms</td>\n",
       "      <td>0.405960</td>\n",
       "      <td>Normal</td>\n",
       "    </tr>\n",
       "    <tr>\n",
       "      <th>1</th>\n",
       "      <td>bathrooms</td>\n",
       "      <td>0.587156</td>\n",
       "      <td>Skew</td>\n",
       "    </tr>\n",
       "    <tr>\n",
       "      <th>2</th>\n",
       "      <td>sqft_living</td>\n",
       "      <td>1.710370</td>\n",
       "      <td>Skew</td>\n",
       "    </tr>\n",
       "    <tr>\n",
       "      <th>3</th>\n",
       "      <td>sqft_lot</td>\n",
       "      <td>11.686138</td>\n",
       "      <td>Skew</td>\n",
       "    </tr>\n",
       "    <tr>\n",
       "      <th>4</th>\n",
       "      <td>floors</td>\n",
       "      <td>0.666571</td>\n",
       "      <td>Skew</td>\n",
       "    </tr>\n",
       "    <tr>\n",
       "      <th>5</th>\n",
       "      <td>waterfront</td>\n",
       "      <td>11.879587</td>\n",
       "      <td>Skew</td>\n",
       "    </tr>\n",
       "    <tr>\n",
       "      <th>6</th>\n",
       "      <td>view</td>\n",
       "      <td>3.367209</td>\n",
       "      <td>Skew</td>\n",
       "    </tr>\n",
       "    <tr>\n",
       "      <th>7</th>\n",
       "      <td>condition</td>\n",
       "      <td>1.032510</td>\n",
       "      <td>Skew</td>\n",
       "    </tr>\n",
       "    <tr>\n",
       "      <th>8</th>\n",
       "      <td>sqft_above</td>\n",
       "      <td>1.505281</td>\n",
       "      <td>Skew</td>\n",
       "    </tr>\n",
       "    <tr>\n",
       "      <th>9</th>\n",
       "      <td>sqft_basement</td>\n",
       "      <td>1.520260</td>\n",
       "      <td>Skew</td>\n",
       "    </tr>\n",
       "    <tr>\n",
       "      <th>10</th>\n",
       "      <td>yr_built</td>\n",
       "      <td>-0.483985</td>\n",
       "      <td>Normal</td>\n",
       "    </tr>\n",
       "    <tr>\n",
       "      <th>11</th>\n",
       "      <td>yr_renovated</td>\n",
       "      <td>0.352141</td>\n",
       "      <td>Normal</td>\n",
       "    </tr>\n",
       "  </tbody>\n",
       "</table>\n",
       "</div>"
      ],
      "text/plain": [
       "           column       skew distribution\n",
       "0        bedrooms   0.405960       Normal\n",
       "1       bathrooms   0.587156         Skew\n",
       "2     sqft_living   1.710370         Skew\n",
       "3        sqft_lot  11.686138         Skew\n",
       "4          floors   0.666571         Skew\n",
       "5      waterfront  11.879587         Skew\n",
       "6            view   3.367209         Skew\n",
       "7       condition   1.032510         Skew\n",
       "8      sqft_above   1.505281         Skew\n",
       "9   sqft_basement   1.520260         Skew\n",
       "10       yr_built  -0.483985       Normal\n",
       "11   yr_renovated   0.352141       Normal"
      ]
     },
     "execution_count": 113,
     "metadata": {},
     "output_type": "execute_result"
    }
   ],
   "source": [
    "# cek semua distribusi dataset\n",
    "\n",
    "distribusi_data = pd.DataFrame({'column':X_train.describe().columns, 'skew' : X_train.skew(axis=0)})\n",
    "distribusi_data.reset_index(drop=True, inplace=True)\n",
    "distribusi_data['distribution'] = np.where((distribusi_data['skew'] < 0.5) & (distribusi_data['skew'] > - 0.5) , 'Normal', 'Skew')\n",
    "distribusi_data"
   ]
  },
  {
   "cell_type": "code",
   "execution_count": 114,
   "metadata": {},
   "outputs": [],
   "source": [
    "# pakai fungsi ini kalau distribusi datanya normal\n",
    "def find_normal_boundaries(df, variable):\n",
    "    upper_boundary = df[variable].mean() + 3 * df[variable].std()\n",
    "    lower_boundary = df[variable].mean() - 3 * df[variable].std()\n",
    "\n",
    "    return upper_boundary, lower_boundary"
   ]
  },
  {
   "cell_type": "code",
   "execution_count": 115,
   "metadata": {},
   "outputs": [],
   "source": [
    "# pakai fungsi ini kalau distribusi datanya skewed\n",
    "\n",
    "def find_skewed_boundaries(df, variable):\n",
    "    IQR = df[variable].quantile(0.75) - df[variable].quantile(0.25)\n",
    "\n",
    "    lower = df[variable].quantile(0.25) - (1.5 * IQR)\n",
    "    upper = df[variable].quantile(0.75) + (1.5 * IQR)\n",
    "\n",
    "    return upper, lower"
   ]
  },
  {
   "cell_type": "code",
   "execution_count": 116,
   "metadata": {},
   "outputs": [
    {
     "data": {
      "text/html": [
       "<div>\n",
       "<style scoped>\n",
       "    .dataframe tbody tr th:only-of-type {\n",
       "        vertical-align: middle;\n",
       "    }\n",
       "\n",
       "    .dataframe tbody tr th {\n",
       "        vertical-align: top;\n",
       "    }\n",
       "\n",
       "    .dataframe thead th {\n",
       "        text-align: right;\n",
       "    }\n",
       "</style>\n",
       "<table border=\"1\" class=\"dataframe\">\n",
       "  <thead>\n",
       "    <tr style=\"text-align: right;\">\n",
       "      <th></th>\n",
       "      <th>column</th>\n",
       "      <th>upper_boundary</th>\n",
       "      <th>lower_boundary</th>\n",
       "      <th>total_right_tail</th>\n",
       "      <th>total_left_tail</th>\n",
       "      <th>total_right_tail_percent</th>\n",
       "      <th>total_left_tail_percent</th>\n",
       "      <th>total_outlier</th>\n",
       "      <th>total_outlier_percent</th>\n",
       "    </tr>\n",
       "  </thead>\n",
       "  <tbody>\n",
       "    <tr>\n",
       "      <th>0</th>\n",
       "      <td>bedrooms</td>\n",
       "      <td>6.105354</td>\n",
       "      <td>0.674646</td>\n",
       "      <td>13</td>\n",
       "      <td>2</td>\n",
       "      <td>0.361111</td>\n",
       "      <td>0.055556</td>\n",
       "      <td>15</td>\n",
       "      <td>0.416667</td>\n",
       "    </tr>\n",
       "    <tr>\n",
       "      <th>1</th>\n",
       "      <td>bathrooms</td>\n",
       "      <td>3.625000</td>\n",
       "      <td>0.625000</td>\n",
       "      <td>107</td>\n",
       "      <td>2</td>\n",
       "      <td>2.972222</td>\n",
       "      <td>0.055556</td>\n",
       "      <td>109</td>\n",
       "      <td>3.027778</td>\n",
       "    </tr>\n",
       "    <tr>\n",
       "      <th>2</th>\n",
       "      <td>sqft_living</td>\n",
       "      <td>4360.000000</td>\n",
       "      <td>-280.000000</td>\n",
       "      <td>94</td>\n",
       "      <td>0</td>\n",
       "      <td>2.611111</td>\n",
       "      <td>0.000000</td>\n",
       "      <td>94</td>\n",
       "      <td>2.611111</td>\n",
       "    </tr>\n",
       "    <tr>\n",
       "      <th>3</th>\n",
       "      <td>sqft_lot</td>\n",
       "      <td>19601.875000</td>\n",
       "      <td>-3761.125000</td>\n",
       "      <td>426</td>\n",
       "      <td>0</td>\n",
       "      <td>11.833333</td>\n",
       "      <td>0.000000</td>\n",
       "      <td>426</td>\n",
       "      <td>11.833333</td>\n",
       "    </tr>\n",
       "    <tr>\n",
       "      <th>4</th>\n",
       "      <td>floors</td>\n",
       "      <td>3.500000</td>\n",
       "      <td>-0.500000</td>\n",
       "      <td>0</td>\n",
       "      <td>0</td>\n",
       "      <td>0.000000</td>\n",
       "      <td>0.000000</td>\n",
       "      <td>0</td>\n",
       "      <td>0.000000</td>\n",
       "    </tr>\n",
       "    <tr>\n",
       "      <th>5</th>\n",
       "      <td>waterfront</td>\n",
       "      <td>0.000000</td>\n",
       "      <td>0.000000</td>\n",
       "      <td>25</td>\n",
       "      <td>0</td>\n",
       "      <td>0.694444</td>\n",
       "      <td>0.000000</td>\n",
       "      <td>25</td>\n",
       "      <td>0.694444</td>\n",
       "    </tr>\n",
       "    <tr>\n",
       "      <th>6</th>\n",
       "      <td>view</td>\n",
       "      <td>0.000000</td>\n",
       "      <td>0.000000</td>\n",
       "      <td>354</td>\n",
       "      <td>0</td>\n",
       "      <td>9.833333</td>\n",
       "      <td>0.000000</td>\n",
       "      <td>354</td>\n",
       "      <td>9.833333</td>\n",
       "    </tr>\n",
       "    <tr>\n",
       "      <th>7</th>\n",
       "      <td>condition</td>\n",
       "      <td>5.500000</td>\n",
       "      <td>1.500000</td>\n",
       "      <td>0</td>\n",
       "      <td>2</td>\n",
       "      <td>0.000000</td>\n",
       "      <td>0.055556</td>\n",
       "      <td>2</td>\n",
       "      <td>0.055556</td>\n",
       "    </tr>\n",
       "    <tr>\n",
       "      <th>8</th>\n",
       "      <td>sqft_above</td>\n",
       "      <td>3980.000000</td>\n",
       "      <td>-500.000000</td>\n",
       "      <td>91</td>\n",
       "      <td>0</td>\n",
       "      <td>2.527778</td>\n",
       "      <td>0.000000</td>\n",
       "      <td>91</td>\n",
       "      <td>2.527778</td>\n",
       "    </tr>\n",
       "    <tr>\n",
       "      <th>9</th>\n",
       "      <td>sqft_basement</td>\n",
       "      <td>1500.000000</td>\n",
       "      <td>-900.000000</td>\n",
       "      <td>63</td>\n",
       "      <td>0</td>\n",
       "      <td>1.750000</td>\n",
       "      <td>0.000000</td>\n",
       "      <td>63</td>\n",
       "      <td>1.750000</td>\n",
       "    </tr>\n",
       "    <tr>\n",
       "      <th>10</th>\n",
       "      <td>yr_built</td>\n",
       "      <td>2060.945456</td>\n",
       "      <td>1880.775655</td>\n",
       "      <td>0</td>\n",
       "      <td>0</td>\n",
       "      <td>0.000000</td>\n",
       "      <td>0.000000</td>\n",
       "      <td>0</td>\n",
       "      <td>0.000000</td>\n",
       "    </tr>\n",
       "    <tr>\n",
       "      <th>11</th>\n",
       "      <td>yr_renovated</td>\n",
       "      <td>1.890833</td>\n",
       "      <td>-1.064167</td>\n",
       "      <td>0</td>\n",
       "      <td>0</td>\n",
       "      <td>0.000000</td>\n",
       "      <td>0.000000</td>\n",
       "      <td>0</td>\n",
       "      <td>0.000000</td>\n",
       "    </tr>\n",
       "  </tbody>\n",
       "</table>\n",
       "</div>"
      ],
      "text/plain": [
       "           column  upper_boundary  lower_boundary  total_right_tail  \\\n",
       "0        bedrooms        6.105354        0.674646                13   \n",
       "1       bathrooms        3.625000        0.625000               107   \n",
       "2     sqft_living     4360.000000     -280.000000                94   \n",
       "3        sqft_lot    19601.875000    -3761.125000               426   \n",
       "4          floors        3.500000       -0.500000                 0   \n",
       "5      waterfront        0.000000        0.000000                25   \n",
       "6            view        0.000000        0.000000               354   \n",
       "7       condition        5.500000        1.500000                 0   \n",
       "8      sqft_above     3980.000000     -500.000000                91   \n",
       "9   sqft_basement     1500.000000     -900.000000                63   \n",
       "10       yr_built     2060.945456     1880.775655                 0   \n",
       "11   yr_renovated        1.890833       -1.064167                 0   \n",
       "\n",
       "    total_left_tail  total_right_tail_percent  total_left_tail_percent  \\\n",
       "0                 2                  0.361111                 0.055556   \n",
       "1                 2                  2.972222                 0.055556   \n",
       "2                 0                  2.611111                 0.000000   \n",
       "3                 0                 11.833333                 0.000000   \n",
       "4                 0                  0.000000                 0.000000   \n",
       "5                 0                  0.694444                 0.000000   \n",
       "6                 0                  9.833333                 0.000000   \n",
       "7                 2                  0.000000                 0.055556   \n",
       "8                 0                  2.527778                 0.000000   \n",
       "9                 0                  1.750000                 0.000000   \n",
       "10                0                  0.000000                 0.000000   \n",
       "11                0                  0.000000                 0.000000   \n",
       "\n",
       "    total_outlier  total_outlier_percent  \n",
       "0              15               0.416667  \n",
       "1             109               3.027778  \n",
       "2              94               2.611111  \n",
       "3             426              11.833333  \n",
       "4               0               0.000000  \n",
       "5              25               0.694444  \n",
       "6             354               9.833333  \n",
       "7               2               0.055556  \n",
       "8              91               2.527778  \n",
       "9              63               1.750000  \n",
       "10              0               0.000000  \n",
       "11              0               0.000000  "
      ]
     },
     "execution_count": 116,
     "metadata": {},
     "output_type": "execute_result"
    }
   ],
   "source": [
    "X_train_outliers = {\n",
    "    'column' : [],\n",
    "    'upper_boundary' : [],\n",
    "    'lower_boundary' : [],\n",
    "    'total_right_tail' : [],\n",
    "    'total_left_tail' : [],\n",
    "    'total_right_tail_percent' : [],\n",
    "    'total_left_tail_percent' : [],\n",
    "    'total_outlier' : [],\n",
    "    'total_outlier_percent' :[]\n",
    "}\n",
    "\n",
    "for row in distribusi_data.index.tolist():\n",
    "    col = distribusi_data.iloc[row]['column']\n",
    "    dist = distribusi_data.iloc[row]['distribution']\n",
    "    if dist == 'Normal' :\n",
    "        upper_boundary, lower_boundary = find_normal_boundaries(X_train, col)\n",
    "    else:\n",
    "        upper_boundary, lower_boundary = find_skewed_boundaries(X_train, col)\n",
    "\n",
    "\n",
    "    total_right_tail = len(X_train[X_train[col] > upper_boundary])\n",
    "    total_left_tail = len(X_train[X_train[col] < lower_boundary])\n",
    "    total_right_tail_percent = total_right_tail/len(X_train)*100\n",
    "    total_left_tail_percent = total_left_tail/len(X_train)*100\n",
    "    total_outlier = total_left_tail + total_right_tail\n",
    "    total_outlier_percent = total_left_tail_percent + total_right_tail_percent\n",
    "\n",
    "    X_train_outliers['column'].append(col)\n",
    "    X_train_outliers['upper_boundary'].append(upper_boundary)\n",
    "    X_train_outliers['lower_boundary'].append(lower_boundary)\n",
    "    X_train_outliers['total_right_tail'].append(total_right_tail)\n",
    "    X_train_outliers['total_left_tail'].append(total_left_tail)\n",
    "    X_train_outliers['total_right_tail_percent'].append(total_right_tail_percent)\n",
    "    X_train_outliers['total_left_tail_percent'].append(total_left_tail_percent)\n",
    "    X_train_outliers['total_outlier'].append(total_outlier)\n",
    "    X_train_outliers['total_outlier_percent'].append(total_outlier_percent)\n",
    "\n",
    "X_train_outliers = pd.DataFrame(X_train_outliers)\n",
    "X_train_outliers"
   ]
  },
  {
   "cell_type": "code",
   "execution_count": 117,
   "metadata": {},
   "outputs": [
    {
     "data": {
      "text/html": [
       "<div>\n",
       "<style scoped>\n",
       "    .dataframe tbody tr th:only-of-type {\n",
       "        vertical-align: middle;\n",
       "    }\n",
       "\n",
       "    .dataframe tbody tr th {\n",
       "        vertical-align: top;\n",
       "    }\n",
       "\n",
       "    .dataframe thead th {\n",
       "        text-align: right;\n",
       "    }\n",
       "</style>\n",
       "<table border=\"1\" class=\"dataframe\">\n",
       "  <thead>\n",
       "    <tr style=\"text-align: right;\">\n",
       "      <th></th>\n",
       "      <th>column</th>\n",
       "      <th>skew</th>\n",
       "      <th>distribution</th>\n",
       "      <th>upper_boundary</th>\n",
       "      <th>lower_boundary</th>\n",
       "      <th>total_right_tail</th>\n",
       "      <th>total_left_tail</th>\n",
       "      <th>total_right_tail_percent</th>\n",
       "      <th>total_left_tail_percent</th>\n",
       "      <th>total_outlier</th>\n",
       "      <th>total_outlier_percent</th>\n",
       "    </tr>\n",
       "  </thead>\n",
       "  <tbody>\n",
       "    <tr>\n",
       "      <th>0</th>\n",
       "      <td>bedrooms</td>\n",
       "      <td>0.405960</td>\n",
       "      <td>Normal</td>\n",
       "      <td>6.105354</td>\n",
       "      <td>0.674646</td>\n",
       "      <td>13</td>\n",
       "      <td>2</td>\n",
       "      <td>0.361111</td>\n",
       "      <td>0.055556</td>\n",
       "      <td>15</td>\n",
       "      <td>0.416667</td>\n",
       "    </tr>\n",
       "    <tr>\n",
       "      <th>1</th>\n",
       "      <td>bathrooms</td>\n",
       "      <td>0.587156</td>\n",
       "      <td>Skew</td>\n",
       "      <td>3.625000</td>\n",
       "      <td>0.625000</td>\n",
       "      <td>107</td>\n",
       "      <td>2</td>\n",
       "      <td>2.972222</td>\n",
       "      <td>0.055556</td>\n",
       "      <td>109</td>\n",
       "      <td>3.027778</td>\n",
       "    </tr>\n",
       "    <tr>\n",
       "      <th>2</th>\n",
       "      <td>sqft_living</td>\n",
       "      <td>1.710370</td>\n",
       "      <td>Skew</td>\n",
       "      <td>4360.000000</td>\n",
       "      <td>-280.000000</td>\n",
       "      <td>94</td>\n",
       "      <td>0</td>\n",
       "      <td>2.611111</td>\n",
       "      <td>0.000000</td>\n",
       "      <td>94</td>\n",
       "      <td>2.611111</td>\n",
       "    </tr>\n",
       "    <tr>\n",
       "      <th>3</th>\n",
       "      <td>sqft_lot</td>\n",
       "      <td>11.686138</td>\n",
       "      <td>Skew</td>\n",
       "      <td>19601.875000</td>\n",
       "      <td>-3761.125000</td>\n",
       "      <td>426</td>\n",
       "      <td>0</td>\n",
       "      <td>11.833333</td>\n",
       "      <td>0.000000</td>\n",
       "      <td>426</td>\n",
       "      <td>11.833333</td>\n",
       "    </tr>\n",
       "    <tr>\n",
       "      <th>4</th>\n",
       "      <td>floors</td>\n",
       "      <td>0.666571</td>\n",
       "      <td>Skew</td>\n",
       "      <td>3.500000</td>\n",
       "      <td>-0.500000</td>\n",
       "      <td>0</td>\n",
       "      <td>0</td>\n",
       "      <td>0.000000</td>\n",
       "      <td>0.000000</td>\n",
       "      <td>0</td>\n",
       "      <td>0.000000</td>\n",
       "    </tr>\n",
       "    <tr>\n",
       "      <th>5</th>\n",
       "      <td>waterfront</td>\n",
       "      <td>11.879587</td>\n",
       "      <td>Skew</td>\n",
       "      <td>0.000000</td>\n",
       "      <td>0.000000</td>\n",
       "      <td>25</td>\n",
       "      <td>0</td>\n",
       "      <td>0.694444</td>\n",
       "      <td>0.000000</td>\n",
       "      <td>25</td>\n",
       "      <td>0.694444</td>\n",
       "    </tr>\n",
       "    <tr>\n",
       "      <th>6</th>\n",
       "      <td>view</td>\n",
       "      <td>3.367209</td>\n",
       "      <td>Skew</td>\n",
       "      <td>0.000000</td>\n",
       "      <td>0.000000</td>\n",
       "      <td>354</td>\n",
       "      <td>0</td>\n",
       "      <td>9.833333</td>\n",
       "      <td>0.000000</td>\n",
       "      <td>354</td>\n",
       "      <td>9.833333</td>\n",
       "    </tr>\n",
       "    <tr>\n",
       "      <th>7</th>\n",
       "      <td>condition</td>\n",
       "      <td>1.032510</td>\n",
       "      <td>Skew</td>\n",
       "      <td>5.500000</td>\n",
       "      <td>1.500000</td>\n",
       "      <td>0</td>\n",
       "      <td>2</td>\n",
       "      <td>0.000000</td>\n",
       "      <td>0.055556</td>\n",
       "      <td>2</td>\n",
       "      <td>0.055556</td>\n",
       "    </tr>\n",
       "    <tr>\n",
       "      <th>8</th>\n",
       "      <td>sqft_above</td>\n",
       "      <td>1.505281</td>\n",
       "      <td>Skew</td>\n",
       "      <td>3980.000000</td>\n",
       "      <td>-500.000000</td>\n",
       "      <td>91</td>\n",
       "      <td>0</td>\n",
       "      <td>2.527778</td>\n",
       "      <td>0.000000</td>\n",
       "      <td>91</td>\n",
       "      <td>2.527778</td>\n",
       "    </tr>\n",
       "    <tr>\n",
       "      <th>9</th>\n",
       "      <td>sqft_basement</td>\n",
       "      <td>1.520260</td>\n",
       "      <td>Skew</td>\n",
       "      <td>1500.000000</td>\n",
       "      <td>-900.000000</td>\n",
       "      <td>63</td>\n",
       "      <td>0</td>\n",
       "      <td>1.750000</td>\n",
       "      <td>0.000000</td>\n",
       "      <td>63</td>\n",
       "      <td>1.750000</td>\n",
       "    </tr>\n",
       "    <tr>\n",
       "      <th>10</th>\n",
       "      <td>yr_built</td>\n",
       "      <td>-0.483985</td>\n",
       "      <td>Normal</td>\n",
       "      <td>2060.945456</td>\n",
       "      <td>1880.775655</td>\n",
       "      <td>0</td>\n",
       "      <td>0</td>\n",
       "      <td>0.000000</td>\n",
       "      <td>0.000000</td>\n",
       "      <td>0</td>\n",
       "      <td>0.000000</td>\n",
       "    </tr>\n",
       "    <tr>\n",
       "      <th>11</th>\n",
       "      <td>yr_renovated</td>\n",
       "      <td>0.352141</td>\n",
       "      <td>Normal</td>\n",
       "      <td>1.890833</td>\n",
       "      <td>-1.064167</td>\n",
       "      <td>0</td>\n",
       "      <td>0</td>\n",
       "      <td>0.000000</td>\n",
       "      <td>0.000000</td>\n",
       "      <td>0</td>\n",
       "      <td>0.000000</td>\n",
       "    </tr>\n",
       "  </tbody>\n",
       "</table>\n",
       "</div>"
      ],
      "text/plain": [
       "           column       skew distribution  upper_boundary  lower_boundary  \\\n",
       "0        bedrooms   0.405960       Normal        6.105354        0.674646   \n",
       "1       bathrooms   0.587156         Skew        3.625000        0.625000   \n",
       "2     sqft_living   1.710370         Skew     4360.000000     -280.000000   \n",
       "3        sqft_lot  11.686138         Skew    19601.875000    -3761.125000   \n",
       "4          floors   0.666571         Skew        3.500000       -0.500000   \n",
       "5      waterfront  11.879587         Skew        0.000000        0.000000   \n",
       "6            view   3.367209         Skew        0.000000        0.000000   \n",
       "7       condition   1.032510         Skew        5.500000        1.500000   \n",
       "8      sqft_above   1.505281         Skew     3980.000000     -500.000000   \n",
       "9   sqft_basement   1.520260         Skew     1500.000000     -900.000000   \n",
       "10       yr_built  -0.483985       Normal     2060.945456     1880.775655   \n",
       "11   yr_renovated   0.352141       Normal        1.890833       -1.064167   \n",
       "\n",
       "    total_right_tail  total_left_tail  total_right_tail_percent  \\\n",
       "0                 13                2                  0.361111   \n",
       "1                107                2                  2.972222   \n",
       "2                 94                0                  2.611111   \n",
       "3                426                0                 11.833333   \n",
       "4                  0                0                  0.000000   \n",
       "5                 25                0                  0.694444   \n",
       "6                354                0                  9.833333   \n",
       "7                  0                2                  0.000000   \n",
       "8                 91                0                  2.527778   \n",
       "9                 63                0                  1.750000   \n",
       "10                 0                0                  0.000000   \n",
       "11                 0                0                  0.000000   \n",
       "\n",
       "    total_left_tail_percent  total_outlier  total_outlier_percent  \n",
       "0                  0.055556             15               0.416667  \n",
       "1                  0.055556            109               3.027778  \n",
       "2                  0.000000             94               2.611111  \n",
       "3                  0.000000            426              11.833333  \n",
       "4                  0.000000              0               0.000000  \n",
       "5                  0.000000             25               0.694444  \n",
       "6                  0.000000            354               9.833333  \n",
       "7                  0.055556              2               0.055556  \n",
       "8                  0.000000             91               2.527778  \n",
       "9                  0.000000             63               1.750000  \n",
       "10                 0.000000              0               0.000000  \n",
       "11                 0.000000              0               0.000000  "
      ]
     },
     "execution_count": 117,
     "metadata": {},
     "output_type": "execute_result"
    }
   ],
   "source": [
    "# Merge Distribusi data dan X_train_outlier\n",
    "\n",
    "pd.merge(distribusi_data, X_train_outliers, on='column')"
   ]
  },
  {
   "cell_type": "markdown",
   "metadata": {},
   "source": [
    "#### Handling Outliers\n",
    "\n",
    "Kolom yang memiliki : \n",
    "- persentase outlier  < 5% : Trimming\n",
    "- 5% <= persentase outlier < 15% : Capping\n",
    "- persentase outlier => 15% : Biarkan"
   ]
  },
  {
   "cell_type": "code",
   "execution_count": 118,
   "metadata": {},
   "outputs": [
    {
     "name": "stdout",
     "output_type": "stream",
     "text": [
      "X_train - Before Handling (3600, 17)\n",
      "X_train = After Handling (3585, 17)\n"
     ]
    }
   ],
   "source": [
    "# Handling Outliers\n",
    "\n",
    "print('X_train - Before Handling', X_train.shape)\n",
    "outlier_trimmer = OutlierTrimmer(capping_method='gaussian',\n",
    "                        tail='both',\n",
    "                        fold=3,\n",
    "                        variables=['bedrooms'],\n",
    "                        missing_values='ignore')\n",
    "\n",
    "outlier_trimmer.fit(X_train)\n",
    "X_train_clean_outliers = outlier_trimmer.transform(X_train)\n",
    "print('X_train = After Handling', X_train_clean_outliers.shape)"
   ]
  },
  {
   "cell_type": "code",
   "execution_count": 119,
   "metadata": {},
   "outputs": [
    {
     "name": "stdout",
     "output_type": "stream",
     "text": [
      "X_train - Before Handling (3585, 17)\n",
      "X_train = After Handling (3360, 17)\n"
     ]
    }
   ],
   "source": [
    "print('X_train - Before Handling', X_train_clean_outliers.shape)\n",
    "outlier_trimmer = OutlierTrimmer(capping_method='iqr',\n",
    "                        tail='both',\n",
    "                        fold=1.5,\n",
    "                        variables=['bathrooms','sqft_living','waterfront','condition', 'sqft_above', 'sqft_basement'],\n",
    "                        missing_values='ignore')\n",
    "\n",
    "outlier_trimmer.fit(X_train_clean_outliers)\n",
    "X_train_clean_outliers = outlier_trimmer.transform(X_train_clean_outliers)\n",
    "print('X_train = After Handling', X_train_clean_outliers.shape)"
   ]
  },
  {
   "cell_type": "code",
   "execution_count": 120,
   "metadata": {},
   "outputs": [
    {
     "name": "stdout",
     "output_type": "stream",
     "text": [
      "X_train - Before Handling (3360, 17)\n",
      "X_train - After Handling (3360, 17)\n"
     ]
    }
   ],
   "source": [
    "print('X_train - Before Handling', X_train_clean_outliers.shape)\n",
    "winsorizer = Winsorizer(capping_method='iqr',\n",
    "                            tail='both',\n",
    "                            fold=1.5,\n",
    "                            variables=['sqft_lot', 'view'],\n",
    "                            missing_values='ignore')\n",
    "\n",
    "winsorizer.fit(X_train_clean_outliers)\n",
    "X_train_clean_outliers = winsorizer.transform(X_train_clean_outliers)\n",
    "print('X_train - After Handling', X_train_clean_outliers.shape)"
   ]
  },
  {
   "cell_type": "code",
   "execution_count": 121,
   "metadata": {},
   "outputs": [
    {
     "data": {
      "text/plain": [
       "(3360,)"
      ]
     },
     "execution_count": 121,
     "metadata": {},
     "output_type": "execute_result"
    }
   ],
   "source": [
    "y_train.drop(y_train.index.difference(X_train_clean_outliers.index), inplace=True)\n",
    "y_train.shape"
   ]
  },
  {
   "cell_type": "markdown",
   "metadata": {},
   "source": [
    "### 5.3. Missing Values\n",
    "\n",
    "Cek missing values di kedua dataset"
   ]
  },
  {
   "cell_type": "code",
   "execution_count": 122,
   "metadata": {},
   "outputs": [
    {
     "data": {
      "text/plain": [
       "date             0\n",
       "bedrooms         0\n",
       "bathrooms        0\n",
       "sqft_living      0\n",
       "sqft_lot         0\n",
       "floors           0\n",
       "waterfront       0\n",
       "view             0\n",
       "condition        0\n",
       "sqft_above       0\n",
       "sqft_basement    0\n",
       "yr_built         0\n",
       "yr_renovated     0\n",
       "street           0\n",
       "city             0\n",
       "statezip         0\n",
       "country          0\n",
       "dtype: int64"
      ]
     },
     "execution_count": 122,
     "metadata": {},
     "output_type": "execute_result"
    }
   ],
   "source": [
    "X_train_clean_outliers.isna().sum()"
   ]
  },
  {
   "cell_type": "code",
   "execution_count": 123,
   "metadata": {},
   "outputs": [
    {
     "data": {
      "text/plain": [
       "date             0\n",
       "bedrooms         0\n",
       "bathrooms        0\n",
       "sqft_living      0\n",
       "sqft_lot         0\n",
       "floors           0\n",
       "waterfront       0\n",
       "view             0\n",
       "condition        0\n",
       "sqft_above       0\n",
       "sqft_basement    0\n",
       "yr_built         0\n",
       "yr_renovated     0\n",
       "street           0\n",
       "city             0\n",
       "statezip         0\n",
       "country          0\n",
       "dtype: int64"
      ]
     },
     "execution_count": 123,
     "metadata": {},
     "output_type": "execute_result"
    }
   ],
   "source": [
    "X_test.isna().sum()"
   ]
  },
  {
   "cell_type": "code",
   "execution_count": 124,
   "metadata": {},
   "outputs": [
    {
     "data": {
      "text/plain": [
       "0"
      ]
     },
     "execution_count": 124,
     "metadata": {},
     "output_type": "execute_result"
    }
   ],
   "source": [
    "y_train.isna().sum()"
   ]
  },
  {
   "cell_type": "code",
   "execution_count": 125,
   "metadata": {},
   "outputs": [
    {
     "data": {
      "text/plain": [
       "0"
      ]
     },
     "execution_count": 125,
     "metadata": {},
     "output_type": "execute_result"
    }
   ],
   "source": [
    "y_test.isna().sum()"
   ]
  },
  {
   "cell_type": "markdown",
   "metadata": {},
   "source": [
    "### 5.4. Features Selection"
   ]
  },
  {
   "cell_type": "markdown",
   "metadata": {},
   "source": [
    "Analisis feature selection :\n",
    "- Kolom date, street, dan statezip saya buang karena kolom tersebut tidak bisa dijadikan patokan/feature untuk memprediksi harga.\n",
    "- Kolom waterfront dan view juga saya tidak digunakan untuk feature.\n",
    "- Kolom Country saya buang karena nilai country hanya terdapat USA saja."
   ]
  },
  {
   "cell_type": "code",
   "execution_count": 126,
   "metadata": {},
   "outputs": [],
   "source": [
    "X_train_ = X_train_clean_outliers.copy()\n",
    "X_test_ = X_test.copy()\n",
    "\n",
    "X_train_.drop(['date','street','statezip','country','view','waterfront'], axis=1, inplace=True)\n",
    "X_test_.drop(['date','street','statezip','country','view','waterfront'], axis=1, inplace=True)\n",
    "\n",
    "X_train = X_train_\n",
    "X_test = X_test_"
   ]
  },
  {
   "cell_type": "code",
   "execution_count": 127,
   "metadata": {},
   "outputs": [
    {
     "data": {
      "text/html": [
       "<div>\n",
       "<style scoped>\n",
       "    .dataframe tbody tr th:only-of-type {\n",
       "        vertical-align: middle;\n",
       "    }\n",
       "\n",
       "    .dataframe tbody tr th {\n",
       "        vertical-align: top;\n",
       "    }\n",
       "\n",
       "    .dataframe thead th {\n",
       "        text-align: right;\n",
       "    }\n",
       "</style>\n",
       "<table border=\"1\" class=\"dataframe\">\n",
       "  <thead>\n",
       "    <tr style=\"text-align: right;\">\n",
       "      <th></th>\n",
       "      <th>bedrooms</th>\n",
       "      <th>bathrooms</th>\n",
       "      <th>sqft_living</th>\n",
       "      <th>sqft_lot</th>\n",
       "      <th>floors</th>\n",
       "      <th>condition</th>\n",
       "      <th>sqft_above</th>\n",
       "      <th>sqft_basement</th>\n",
       "      <th>yr_built</th>\n",
       "      <th>yr_renovated</th>\n",
       "      <th>city</th>\n",
       "    </tr>\n",
       "  </thead>\n",
       "  <tbody>\n",
       "    <tr>\n",
       "      <th>4465</th>\n",
       "      <td>4.0</td>\n",
       "      <td>2.50</td>\n",
       "      <td>2590</td>\n",
       "      <td>8483.00</td>\n",
       "      <td>2</td>\n",
       "      <td>3</td>\n",
       "      <td>2590</td>\n",
       "      <td>0</td>\n",
       "      <td>1991</td>\n",
       "      <td>0</td>\n",
       "      <td>Bothell</td>\n",
       "    </tr>\n",
       "    <tr>\n",
       "      <th>70</th>\n",
       "      <td>3.0</td>\n",
       "      <td>1.00</td>\n",
       "      <td>1330</td>\n",
       "      <td>18273.75</td>\n",
       "      <td>1</td>\n",
       "      <td>3</td>\n",
       "      <td>1330</td>\n",
       "      <td>0</td>\n",
       "      <td>1928</td>\n",
       "      <td>1</td>\n",
       "      <td>Kirkland</td>\n",
       "    </tr>\n",
       "    <tr>\n",
       "      <th>1080</th>\n",
       "      <td>4.0</td>\n",
       "      <td>2.50</td>\n",
       "      <td>2360</td>\n",
       "      <td>5226.00</td>\n",
       "      <td>2</td>\n",
       "      <td>3</td>\n",
       "      <td>2360</td>\n",
       "      <td>0</td>\n",
       "      <td>2001</td>\n",
       "      <td>0</td>\n",
       "      <td>Kirkland</td>\n",
       "    </tr>\n",
       "    <tr>\n",
       "      <th>1378</th>\n",
       "      <td>3.0</td>\n",
       "      <td>2.50</td>\n",
       "      <td>1590</td>\n",
       "      <td>2550.00</td>\n",
       "      <td>3</td>\n",
       "      <td>3</td>\n",
       "      <td>1590</td>\n",
       "      <td>0</td>\n",
       "      <td>1985</td>\n",
       "      <td>0</td>\n",
       "      <td>Seattle</td>\n",
       "    </tr>\n",
       "    <tr>\n",
       "      <th>1740</th>\n",
       "      <td>3.0</td>\n",
       "      <td>2.00</td>\n",
       "      <td>2140</td>\n",
       "      <td>4923.00</td>\n",
       "      <td>1</td>\n",
       "      <td>4</td>\n",
       "      <td>1070</td>\n",
       "      <td>1070</td>\n",
       "      <td>1928</td>\n",
       "      <td>0</td>\n",
       "      <td>Seattle</td>\n",
       "    </tr>\n",
       "    <tr>\n",
       "      <th>...</th>\n",
       "      <td>...</td>\n",
       "      <td>...</td>\n",
       "      <td>...</td>\n",
       "      <td>...</td>\n",
       "      <td>...</td>\n",
       "      <td>...</td>\n",
       "      <td>...</td>\n",
       "      <td>...</td>\n",
       "      <td>...</td>\n",
       "      <td>...</td>\n",
       "      <td>...</td>\n",
       "    </tr>\n",
       "    <tr>\n",
       "      <th>2800</th>\n",
       "      <td>4.0</td>\n",
       "      <td>2.50</td>\n",
       "      <td>2610</td>\n",
       "      <td>8031.00</td>\n",
       "      <td>2</td>\n",
       "      <td>3</td>\n",
       "      <td>2610</td>\n",
       "      <td>0</td>\n",
       "      <td>1998</td>\n",
       "      <td>1</td>\n",
       "      <td>Lake Forest Park</td>\n",
       "    </tr>\n",
       "    <tr>\n",
       "      <th>1337</th>\n",
       "      <td>4.0</td>\n",
       "      <td>2.50</td>\n",
       "      <td>2520</td>\n",
       "      <td>8515.00</td>\n",
       "      <td>2</td>\n",
       "      <td>3</td>\n",
       "      <td>2520</td>\n",
       "      <td>0</td>\n",
       "      <td>1999</td>\n",
       "      <td>0</td>\n",
       "      <td>Duvall</td>\n",
       "    </tr>\n",
       "    <tr>\n",
       "      <th>406</th>\n",
       "      <td>3.0</td>\n",
       "      <td>2.00</td>\n",
       "      <td>1920</td>\n",
       "      <td>8075.00</td>\n",
       "      <td>1</td>\n",
       "      <td>4</td>\n",
       "      <td>1510</td>\n",
       "      <td>410</td>\n",
       "      <td>1969</td>\n",
       "      <td>0</td>\n",
       "      <td>Federal Way</td>\n",
       "    </tr>\n",
       "    <tr>\n",
       "      <th>2191</th>\n",
       "      <td>5.0</td>\n",
       "      <td>3.25</td>\n",
       "      <td>2750</td>\n",
       "      <td>7500.00</td>\n",
       "      <td>2</td>\n",
       "      <td>3</td>\n",
       "      <td>2150</td>\n",
       "      <td>600</td>\n",
       "      <td>1937</td>\n",
       "      <td>1</td>\n",
       "      <td>Kirkland</td>\n",
       "    </tr>\n",
       "    <tr>\n",
       "      <th>2671</th>\n",
       "      <td>3.0</td>\n",
       "      <td>1.75</td>\n",
       "      <td>1700</td>\n",
       "      <td>8432.00</td>\n",
       "      <td>1</td>\n",
       "      <td>3</td>\n",
       "      <td>1230</td>\n",
       "      <td>470</td>\n",
       "      <td>1977</td>\n",
       "      <td>1</td>\n",
       "      <td>Seattle</td>\n",
       "    </tr>\n",
       "  </tbody>\n",
       "</table>\n",
       "<p>3360 rows × 11 columns</p>\n",
       "</div>"
      ],
      "text/plain": [
       "      bedrooms  bathrooms  sqft_living  sqft_lot  floors  condition  \\\n",
       "4465       4.0       2.50         2590   8483.00       2          3   \n",
       "70         3.0       1.00         1330  18273.75       1          3   \n",
       "1080       4.0       2.50         2360   5226.00       2          3   \n",
       "1378       3.0       2.50         1590   2550.00       3          3   \n",
       "1740       3.0       2.00         2140   4923.00       1          4   \n",
       "...        ...        ...          ...       ...     ...        ...   \n",
       "2800       4.0       2.50         2610   8031.00       2          3   \n",
       "1337       4.0       2.50         2520   8515.00       2          3   \n",
       "406        3.0       2.00         1920   8075.00       1          4   \n",
       "2191       5.0       3.25         2750   7500.00       2          3   \n",
       "2671       3.0       1.75         1700   8432.00       1          3   \n",
       "\n",
       "      sqft_above  sqft_basement  yr_built  yr_renovated              city  \n",
       "4465        2590              0      1991             0           Bothell  \n",
       "70          1330              0      1928             1          Kirkland  \n",
       "1080        2360              0      2001             0          Kirkland  \n",
       "1378        1590              0      1985             0           Seattle  \n",
       "1740        1070           1070      1928             0           Seattle  \n",
       "...          ...            ...       ...           ...               ...  \n",
       "2800        2610              0      1998             1  Lake Forest Park  \n",
       "1337        2520              0      1999             0            Duvall  \n",
       "406         1510            410      1969             0       Federal Way  \n",
       "2191        2150            600      1937             1          Kirkland  \n",
       "2671        1230            470      1977             1           Seattle  \n",
       "\n",
       "[3360 rows x 11 columns]"
      ]
     },
     "execution_count": 127,
     "metadata": {},
     "output_type": "execute_result"
    }
   ],
   "source": [
    "X_train"
   ]
  },
  {
   "cell_type": "markdown",
   "metadata": {},
   "source": [
    "### 5.5. Feature Scaling dan Feature Encoding\n",
    "\n",
    "Feature Scaling untuk data numerik dan Feature Encoding untuk data kategorik. Ini berguna untuk memudahkan Machine Learning mempelajari data dan membuat model baru."
   ]
  },
  {
   "cell_type": "code",
   "execution_count": 128,
   "metadata": {},
   "outputs": [
    {
     "name": "stdout",
     "output_type": "stream",
     "text": [
      "Numerical Columns : ['bedrooms', 'bathrooms', 'sqft_living', 'sqft_lot', 'floors', 'condition', 'sqft_above', 'sqft_basement', 'yr_built', 'yr_renovated']\n",
      "\n",
      "Categorical Columns : ['city']\n"
     ]
    }
   ],
   "source": [
    "# split columns\n",
    "num_cols = X_train.select_dtypes(include=np.number).columns.tolist()\n",
    "cat_cols = X_train.select_dtypes(exclude=np.number).columns.tolist()\n",
    "\n",
    "print('Numerical Columns :',num_cols)\n",
    "print('\\nCategorical Columns :',cat_cols)\n",
    "\n",
    "# num_cols = make_column_selector(dtype_include='number')\n",
    "# cat_cols = make_column_selector(dtype_exclude='number')"
   ]
  },
  {
   "cell_type": "code",
   "execution_count": 129,
   "metadata": {},
   "outputs": [],
   "source": [
    "# Feature Scaling\n",
    "scaler = StandardScaler()"
   ]
  },
  {
   "cell_type": "code",
   "execution_count": 130,
   "metadata": {},
   "outputs": [],
   "source": [
    "# Feature Encoding\n",
    "ohe = OneHotEncoder(handle_unknown='ignore')"
   ]
  },
  {
   "cell_type": "code",
   "execution_count": 131,
   "metadata": {},
   "outputs": [],
   "source": [
    "# Make Pipeline for preprocessing\n",
    "\n",
    "num_pipe = Pipeline([\n",
    "    ('scaler', scaler)\n",
    "    ])\n",
    "\n",
    "cat_pipe = Pipeline(\n",
    "    [('encoder', ohe)]\n",
    ")\n",
    "\n",
    "preprocessing = ColumnTransformer(\n",
    "    [('num', num_pipe, num_cols),\n",
    "    ('cat', cat_pipe, cat_cols)]\n",
    ")"
   ]
  },
  {
   "cell_type": "markdown",
   "metadata": {},
   "source": [
    "# 6. Model Definition\n",
    "\n",
    "Bagian ini berisi cell untuk mendefinisikan model. Jelaskan alasan menggunakan suatu algoritma/model, hyperparameter yang dipakai, jenis penggunaan metrics yang dipakai, dan hal lain yang terkait dengan model."
   ]
  },
  {
   "cell_type": "markdown",
   "metadata": {},
   "source": [
    "Dipakai 2 model algoritma :\n",
    "1. Linear Regression\n",
    "2. Random Forest Regressor"
   ]
  },
  {
   "cell_type": "markdown",
   "metadata": {},
   "source": [
    "### 6.1. Linear Regression"
   ]
  },
  {
   "cell_type": "code",
   "execution_count": 132,
   "metadata": {},
   "outputs": [],
   "source": [
    "# Baseline Model\n",
    "lr = LinearRegression(fit_intercept=True)\n",
    "\n",
    "# Using Pipeline\n",
    "pipe_base_lr = Pipeline([\n",
    "    ('preprocessing', preprocessing),\n",
    "    ('regression', lr)\n",
    "])"
   ]
  },
  {
   "cell_type": "markdown",
   "metadata": {},
   "source": [
    "### 6.2. Random Forest Regressor"
   ]
  },
  {
   "cell_type": "code",
   "execution_count": 133,
   "metadata": {},
   "outputs": [],
   "source": [
    "# Baseline Model\n",
    "rfr = RandomForestRegressor()\n",
    "\n",
    "# Using Pipeline\n",
    "pipe_base_rfr = Pipeline([\n",
    "    ('preprocessing', preprocessing),\n",
    "    ('regression', rfr)\n",
    "])"
   ]
  },
  {
   "cell_type": "code",
   "execution_count": 134,
   "metadata": {},
   "outputs": [],
   "source": [
    "# Make Hyperparameter Tuning\n",
    "param_rfr = {\n",
    "    'regression__n_estimators':[10,15,20],\n",
    "    'regression__criterion':['squared_error', 'absolute_error'],\n",
    "    'regression__max_depth': np.arange(2,5),\n",
    "    'regression__min_samples_split': np.arange(2,5),\n",
    "    'regression__min_samples_leaf': np.arange(2,5)\n",
    "}"
   ]
  },
  {
   "cell_type": "markdown",
   "metadata": {},
   "source": [
    "# 7. Model Training\n",
    "\n",
    "Cell pada bagian ini hanya berisi code untuk melatih model dan output yang dihasilkan. Lakukan beberapa kali proses training dengan hyperparameter yang berbeda untuk melihat hasil yang didapatkan. Analisis dan narasikan hasil ini pada bagian Model Evaluation."
   ]
  },
  {
   "cell_type": "markdown",
   "metadata": {},
   "source": [
    "### 7.1 Linear Regression"
   ]
  },
  {
   "cell_type": "code",
   "execution_count": 135,
   "metadata": {},
   "outputs": [
    {
     "data": {
      "text/plain": [
       "Pipeline(steps=[('preprocessing',\n",
       "                 ColumnTransformer(transformers=[('num',\n",
       "                                                  Pipeline(steps=[('scaler',\n",
       "                                                                   StandardScaler())]),\n",
       "                                                  ['bedrooms', 'bathrooms',\n",
       "                                                   'sqft_living', 'sqft_lot',\n",
       "                                                   'floors', 'condition',\n",
       "                                                   'sqft_above',\n",
       "                                                   'sqft_basement', 'yr_built',\n",
       "                                                   'yr_renovated']),\n",
       "                                                 ('cat',\n",
       "                                                  Pipeline(steps=[('encoder',\n",
       "                                                                   OneHotEncoder(handle_unknown='ignore'))]),\n",
       "                                                  ['city'])])),\n",
       "                ('regression', LinearRegression())])"
      ]
     },
     "execution_count": 135,
     "metadata": {},
     "output_type": "execute_result"
    }
   ],
   "source": [
    "pipe_base_lr.fit(X_train, y_train)"
   ]
  },
  {
   "cell_type": "markdown",
   "metadata": {},
   "source": [
    "### 7.2. Random Forest Regressor"
   ]
  },
  {
   "cell_type": "code",
   "execution_count": 136,
   "metadata": {},
   "outputs": [
    {
     "data": {
      "text/plain": [
       "Pipeline(steps=[('preprocessing',\n",
       "                 ColumnTransformer(transformers=[('num',\n",
       "                                                  Pipeline(steps=[('scaler',\n",
       "                                                                   StandardScaler())]),\n",
       "                                                  ['bedrooms', 'bathrooms',\n",
       "                                                   'sqft_living', 'sqft_lot',\n",
       "                                                   'floors', 'condition',\n",
       "                                                   'sqft_above',\n",
       "                                                   'sqft_basement', 'yr_built',\n",
       "                                                   'yr_renovated']),\n",
       "                                                 ('cat',\n",
       "                                                  Pipeline(steps=[('encoder',\n",
       "                                                                   OneHotEncoder(handle_unknown='ignore'))]),\n",
       "                                                  ['city'])])),\n",
       "                ('regression', RandomForestRegressor())])"
      ]
     },
     "execution_count": 136,
     "metadata": {},
     "output_type": "execute_result"
    }
   ],
   "source": [
    "# Baseline Model Training\n",
    "pipe_base_rfr.fit(X_train,y_train)"
   ]
  },
  {
   "cell_type": "code",
   "execution_count": 137,
   "metadata": {},
   "outputs": [
    {
     "data": {
      "text/plain": [
       "GridSearchCV(cv=5,\n",
       "             estimator=Pipeline(steps=[('preprocessing',\n",
       "                                        ColumnTransformer(transformers=[('num',\n",
       "                                                                         Pipeline(steps=[('scaler',\n",
       "                                                                                          StandardScaler())]),\n",
       "                                                                         ['bedrooms',\n",
       "                                                                          'bathrooms',\n",
       "                                                                          'sqft_living',\n",
       "                                                                          'sqft_lot',\n",
       "                                                                          'floors',\n",
       "                                                                          'condition',\n",
       "                                                                          'sqft_above',\n",
       "                                                                          'sqft_basement',\n",
       "                                                                          'yr_built',\n",
       "                                                                          'yr_renovated']),\n",
       "                                                                        ('cat',\n",
       "                                                                         Pipeline(steps=[('encoder',\n",
       "                                                                                          OneHotEncoder(handle_unknown='ignore'))]),\n",
       "                                                                         ['city'])])),\n",
       "                                       ('regression',\n",
       "                                        RandomForestRegressor())]),\n",
       "             n_jobs=-1,\n",
       "             param_grid={'regression__criterion': ['squared_error',\n",
       "                                                   'absolute_error'],\n",
       "                         'regression__max_depth': array([2, 3, 4]),\n",
       "                         'regression__min_samples_leaf': array([2, 3, 4]),\n",
       "                         'regression__min_samples_split': array([2, 3, 4]),\n",
       "                         'regression__n_estimators': [10, 15, 20]})"
      ]
     },
     "execution_count": 137,
     "metadata": {},
     "output_type": "execute_result"
    }
   ],
   "source": [
    "# with Hyperparameter Tuning\n",
    "grid_rf = GridSearchCV(estimator=pipe_base_rfr, param_grid=param_rfr, cv=5, n_jobs=-1)\n",
    "grid_rf.fit(X_train, y_train)"
   ]
  },
  {
   "cell_type": "markdown",
   "metadata": {},
   "source": [
    "# 8. Model Evaluation\n",
    "\n",
    "Pada bagian ini, dilakukan evaluasi model yang harus menunjukkan bagaimana performa model berdasarkan metrics yang dipilih. Hal ini harus dibuktikan dengan visualisasi tren performa dan/atau tingkat kesalahan model. Lakukan analisis terkait dengan hasil pada model dan tuliskan hasil analisisnya.\n",
    "\n"
   ]
  },
  {
   "cell_type": "markdown",
   "metadata": {},
   "source": [
    "### 8.1. Model Evaluation Linear Regression"
   ]
  },
  {
   "cell_type": "code",
   "execution_count": 138,
   "metadata": {},
   "outputs": [
    {
     "name": "stdout",
     "output_type": "stream",
     "text": [
      "======== Error Train-set ========\n",
      "Mean Absolute Error : 122889.23551244935\n",
      "Mean Squared Error : 280062693947.8822\n",
      "R Mean Squared Error : 529209.4991096458\n",
      "R2 Score : 0.12198226904570475\n",
      " \n",
      "======== Error Test-set ========\n",
      "Mean Absolute Error : 132250.69917350146\n",
      "Mean Squared Error : 53544154571.54191\n",
      "R Mean Squared Error : 231396.09886845955\n",
      "R2 Score : 0.6391450123693915\n"
     ]
    }
   ],
   "source": [
    "y_pred_lr_train = pipe_base_lr.predict(X_train)\n",
    "y_pred_lr_test = pipe_base_lr.predict(X_test)\n",
    "\n",
    "# Train\n",
    "mae_model1_train = mean_absolute_error(y_train, y_pred_lr_train)\n",
    "mse_model1_train = mean_squared_error(y_train, y_pred_lr_train)\n",
    "rmse_model1_train = mean_squared_error(y_train, y_pred_lr_train, squared=False)\n",
    "r2_model1_train = r2_score(y_train, y_pred_lr_train)\n",
    "print(\"======== Error Train-set ========\")\n",
    "print('Mean Absolute Error :', mae_model1_train)\n",
    "print('Mean Squared Error :', mse_model1_train)\n",
    "print('R Mean Squared Error :', rmse_model1_train)\n",
    "print('R2 Score :', r2_model1_train)\n",
    "\n",
    "print(' ')\n",
    "\n",
    "# Test\n",
    "mae_model1_test = mean_absolute_error(y_test, y_pred_lr_test)\n",
    "mse_model1_test = mean_squared_error(y_test, y_pred_lr_test)\n",
    "rmse_model1_test = mean_squared_error(y_test, y_pred_lr_test, squared=False)\n",
    "r2_model1_test = r2_score(y_test, y_pred_lr_test)\n",
    "print(\"======== Error Test-set ========\")\n",
    "print('Mean Absolute Error :', mae_model1_test)\n",
    "print('Mean Squared Error :', mse_model1_test)\n",
    "print('R Mean Squared Error :', rmse_model1_test)\n",
    "print('R2 Score :', r2_model1_test)"
   ]
  },
  {
   "cell_type": "markdown",
   "metadata": {},
   "source": [
    "### 8.2. Model Evaluation Random Forest Regressor"
   ]
  },
  {
   "cell_type": "code",
   "execution_count": 139,
   "metadata": {},
   "outputs": [
    {
     "name": "stdout",
     "output_type": "stream",
     "text": [
      "======== Error Train-set ========\n",
      "Mean Absolute Error : 47200.86289720194\n",
      "Mean Squared Error : 53358687971.67396\n",
      "R Mean Squared Error : 230994.9955554751\n",
      "R2 Score : 0.8327164768746177\n",
      " \n",
      "======== Error Test-set ========\n",
      "Mean Absolute Error : 129227.12456906553\n",
      "Mean Squared Error : 66280187495.643074\n",
      "R Mean Squared Error : 257449.38822153583\n",
      "R2 Score : 0.5533119080825568\n"
     ]
    }
   ],
   "source": [
    "y_pred_rfr_train = pipe_base_rfr.predict(X_train)\n",
    "y_pred_rfr_test = pipe_base_rfr.predict(X_test)\n",
    "\n",
    "# Train\n",
    "mae_model1_train = mean_absolute_error(y_train, y_pred_rfr_train)\n",
    "mse_model1_train = mean_squared_error(y_train, y_pred_rfr_train)\n",
    "rmse_model1_train = mean_squared_error(y_train, y_pred_rfr_train, squared=False)\n",
    "r2_model1_train = r2_score(y_train, y_pred_rfr_train)\n",
    "print(\"======== Error Train-set ========\")\n",
    "print('Mean Absolute Error :', mae_model1_train)\n",
    "print('Mean Squared Error :', mse_model1_train)\n",
    "print('R Mean Squared Error :', rmse_model1_train)\n",
    "print('R2 Score :', r2_model1_train)\n",
    "\n",
    "print(' ')\n",
    "\n",
    "# Test\n",
    "mae_model1_test = mean_absolute_error(y_test, y_pred_rfr_test)\n",
    "mse_model1_test = mean_squared_error(y_test, y_pred_rfr_test)\n",
    "rmse_model1_test = mean_squared_error(y_test, y_pred_rfr_test, squared=False)\n",
    "r2_model1_test = r2_score(y_test, y_pred_rfr_test)\n",
    "print(\"======== Error Test-set ========\")\n",
    "print('Mean Absolute Error :', mae_model1_test)\n",
    "print('Mean Squared Error :', mse_model1_test)\n",
    "print('R Mean Squared Error :', rmse_model1_test)\n",
    "print('R2 Score :', r2_model1_test)"
   ]
  },
  {
   "cell_type": "markdown",
   "metadata": {},
   "source": [
    "### 8.3. Model Evaluation Random Forest Regressor - with Hyperparamater Tuning"
   ]
  },
  {
   "cell_type": "code",
   "execution_count": 140,
   "metadata": {},
   "outputs": [
    {
     "data": {
      "text/plain": [
       "{'regression__criterion': 'absolute_error',\n",
       " 'regression__max_depth': 4,\n",
       " 'regression__min_samples_leaf': 4,\n",
       " 'regression__min_samples_split': 3,\n",
       " 'regression__n_estimators': 20}"
      ]
     },
     "execution_count": 140,
     "metadata": {},
     "output_type": "execute_result"
    }
   ],
   "source": [
    "grid_rf.best_params_"
   ]
  },
  {
   "cell_type": "code",
   "execution_count": 141,
   "metadata": {},
   "outputs": [
    {
     "name": "stdout",
     "output_type": "stream",
     "text": [
      "Pipeline(steps=[('preprocessing',\n",
      "                 ColumnTransformer(transformers=[('num',\n",
      "                                                  Pipeline(steps=[('scaler',\n",
      "                                                                   StandardScaler())]),\n",
      "                                                  ['bedrooms', 'bathrooms',\n",
      "                                                   'sqft_living', 'sqft_lot',\n",
      "                                                   'floors', 'condition',\n",
      "                                                   'sqft_above',\n",
      "                                                   'sqft_basement', 'yr_built',\n",
      "                                                   'yr_renovated']),\n",
      "                                                 ('cat',\n",
      "                                                  Pipeline(steps=[('encoder',\n",
      "                                                                   OneHotEncoder(handle_unknown='ignore'))]),\n",
      "                                                  ['city'])])),\n",
      "                ('regression',\n",
      "                 RandomForestRegressor(criterion='absolute_error', max_depth=4,\n",
      "                                       min_samples_leaf=4, min_samples_split=3,\n",
      "                                       n_estimators=20))])\n"
     ]
    }
   ],
   "source": [
    "best_rf = grid_rf.best_estimator_\n",
    "print(best_rf)"
   ]
  },
  {
   "cell_type": "code",
   "execution_count": 142,
   "metadata": {},
   "outputs": [
    {
     "name": "stdout",
     "output_type": "stream",
     "text": [
      "======== Error Train-set ========\n",
      "Mean Absolute Error : 136972.2471804416\n",
      "Mean Squared Error : 287275687946.5117\n",
      "R Mean Squared Error : 535981.051853992\n",
      "R2 Score : 0.09936898723087573\n",
      " \n",
      "======== Error Test-set ========\n",
      "Mean Absolute Error : 163539.094315356\n",
      "Mean Squared Error : 91258283893.3603\n",
      "R Mean Squared Error : 302089.8606265366\n",
      "R2 Score : 0.384974752724333\n"
     ]
    }
   ],
   "source": [
    "y_pred_rfr2_train = best_rf.predict(X_train)\n",
    "y_pred_rfr2_test = best_rf.predict(X_test)\n",
    "\n",
    "# Train\n",
    "mae_model1_train = mean_absolute_error(y_train, y_pred_rfr2_train)\n",
    "mse_model1_train = mean_squared_error(y_train, y_pred_rfr2_train)\n",
    "rmse_model1_train = mean_squared_error(y_train, y_pred_rfr2_train, squared=False)\n",
    "r2_model1_train = r2_score(y_train, y_pred_rfr2_train)\n",
    "print(\"======== Error Train-set ========\")\n",
    "print('Mean Absolute Error :', mae_model1_train)\n",
    "print('Mean Squared Error :', mse_model1_train)\n",
    "print('R Mean Squared Error :', rmse_model1_train)\n",
    "print('R2 Score :', r2_model1_train)\n",
    "\n",
    "print(' ')\n",
    "\n",
    "# Test\n",
    "mae_model1_test = mean_absolute_error(y_test, y_pred_rfr2_test)\n",
    "mse_model1_test = mean_squared_error(y_test, y_pred_rfr2_test)\n",
    "rmse_model1_test = mean_squared_error(y_test, y_pred_rfr2_test, squared=False)\n",
    "r2_model1_test = r2_score(y_test, y_pred_rfr2_test)\n",
    "print(\"======== Error Test-set ========\")\n",
    "print('Mean Absolute Error :', mae_model1_test)\n",
    "print('Mean Squared Error :', mse_model1_test)\n",
    "print('R Mean Squared Error :', rmse_model1_test)\n",
    "print('R2 Score :', r2_model1_test)"
   ]
  },
  {
   "cell_type": "markdown",
   "metadata": {},
   "source": [
    "Analisis Model :\n",
    "- Setelah melakukan modeling pada dataset harga rumah, nilai error pada train maupun test terlihat tidak masuk akal. Jadi saya putuskan hanya mengecek R2_score tertinggi.\n",
    "- Model algoritma baik Random Forest Regressor tanpa hyperparamter mendapatkan hasil model yang overfitting. Saya melihat pada R2_score train lebih besar dibanding dengan test.\n",
    "- Model algoritma baik Random Forest Regressor tanpa hyperparamter mendapatkan hasil model yang tidak overfitting. Saya melihat pada R2_score test lebih besar dibanding dengan train meski akurasinya masih terbilang kecil.\n",
    "- Model algoritma yang saya pakai adalah **Linear Regression** karena mempunyai r2_score yang cukup tinggi yaitu 63%."
   ]
  },
  {
   "cell_type": "markdown",
   "metadata": {},
   "source": [
    "# 9. Model Inference\n",
    "\n",
    "Model yang sudah dilatih akan dicoba pada data yang bukan termasuk ke dalam train-set ataupun test-set. Data ini harus dalam format yang asli, bukan data yang sudah di-scaled."
   ]
  },
  {
   "cell_type": "code",
   "execution_count": 143,
   "metadata": {},
   "outputs": [
    {
     "data": {
      "text/html": [
       "<div>\n",
       "<style scoped>\n",
       "    .dataframe tbody tr th:only-of-type {\n",
       "        vertical-align: middle;\n",
       "    }\n",
       "\n",
       "    .dataframe tbody tr th {\n",
       "        vertical-align: top;\n",
       "    }\n",
       "\n",
       "    .dataframe thead th {\n",
       "        text-align: right;\n",
       "    }\n",
       "</style>\n",
       "<table border=\"1\" class=\"dataframe\">\n",
       "  <thead>\n",
       "    <tr style=\"text-align: right;\">\n",
       "      <th></th>\n",
       "      <th>date</th>\n",
       "      <th>price</th>\n",
       "      <th>bedrooms</th>\n",
       "      <th>bathrooms</th>\n",
       "      <th>sqft_living</th>\n",
       "      <th>sqft_lot</th>\n",
       "      <th>floors</th>\n",
       "      <th>waterfront</th>\n",
       "      <th>view</th>\n",
       "      <th>condition</th>\n",
       "      <th>sqft_above</th>\n",
       "      <th>sqft_basement</th>\n",
       "      <th>yr_built</th>\n",
       "      <th>yr_renovated</th>\n",
       "      <th>street</th>\n",
       "      <th>city</th>\n",
       "      <th>statezip</th>\n",
       "      <th>country</th>\n",
       "    </tr>\n",
       "  </thead>\n",
       "  <tbody>\n",
       "    <tr>\n",
       "      <th>0</th>\n",
       "      <td>2014-05-29</td>\n",
       "      <td>3100000.0</td>\n",
       "      <td>6.0</td>\n",
       "      <td>4.25</td>\n",
       "      <td>6980</td>\n",
       "      <td>15682</td>\n",
       "      <td>3</td>\n",
       "      <td>0</td>\n",
       "      <td>4</td>\n",
       "      <td>4</td>\n",
       "      <td>5330</td>\n",
       "      <td>1650</td>\n",
       "      <td>1999</td>\n",
       "      <td>0</td>\n",
       "      <td>5243 Forest Ave SE</td>\n",
       "      <td>Mercer Island</td>\n",
       "      <td>WA 98040</td>\n",
       "      <td>USA</td>\n",
       "    </tr>\n",
       "    <tr>\n",
       "      <th>1</th>\n",
       "      <td>2014-05-28</td>\n",
       "      <td>425000.0</td>\n",
       "      <td>4.0</td>\n",
       "      <td>2.75</td>\n",
       "      <td>1680</td>\n",
       "      <td>9545</td>\n",
       "      <td>1</td>\n",
       "      <td>0</td>\n",
       "      <td>0</td>\n",
       "      <td>4</td>\n",
       "      <td>1080</td>\n",
       "      <td>600</td>\n",
       "      <td>1979</td>\n",
       "      <td>0</td>\n",
       "      <td>7220 NE 152nd Pl</td>\n",
       "      <td>Kenmore</td>\n",
       "      <td>WA 98028</td>\n",
       "      <td>USA</td>\n",
       "    </tr>\n",
       "    <tr>\n",
       "      <th>2</th>\n",
       "      <td>2014-05-13</td>\n",
       "      <td>591000.0</td>\n",
       "      <td>4.0</td>\n",
       "      <td>2.25</td>\n",
       "      <td>2710</td>\n",
       "      <td>38180</td>\n",
       "      <td>2</td>\n",
       "      <td>0</td>\n",
       "      <td>0</td>\n",
       "      <td>4</td>\n",
       "      <td>2710</td>\n",
       "      <td>0</td>\n",
       "      <td>1977</td>\n",
       "      <td>0</td>\n",
       "      <td>19615 182nd Ave NE</td>\n",
       "      <td>Woodinville</td>\n",
       "      <td>WA 98077</td>\n",
       "      <td>USA</td>\n",
       "    </tr>\n",
       "    <tr>\n",
       "      <th>3</th>\n",
       "      <td>2014-07-09</td>\n",
       "      <td>215000.0</td>\n",
       "      <td>4.0</td>\n",
       "      <td>1.50</td>\n",
       "      <td>1860</td>\n",
       "      <td>5040</td>\n",
       "      <td>1</td>\n",
       "      <td>0</td>\n",
       "      <td>0</td>\n",
       "      <td>5</td>\n",
       "      <td>1860</td>\n",
       "      <td>0</td>\n",
       "      <td>1920</td>\n",
       "      <td>0</td>\n",
       "      <td>1730 Washington Ave</td>\n",
       "      <td>Enumclaw</td>\n",
       "      <td>WA 98022</td>\n",
       "      <td>USA</td>\n",
       "    </tr>\n",
       "    <tr>\n",
       "      <th>4</th>\n",
       "      <td>2014-06-05</td>\n",
       "      <td>453500.0</td>\n",
       "      <td>4.0</td>\n",
       "      <td>1.75</td>\n",
       "      <td>2000</td>\n",
       "      <td>6032</td>\n",
       "      <td>1</td>\n",
       "      <td>0</td>\n",
       "      <td>2</td>\n",
       "      <td>3</td>\n",
       "      <td>1300</td>\n",
       "      <td>700</td>\n",
       "      <td>1959</td>\n",
       "      <td>1</td>\n",
       "      <td>4404 SW 101st St</td>\n",
       "      <td>Seattle</td>\n",
       "      <td>WA 98146</td>\n",
       "      <td>USA</td>\n",
       "    </tr>\n",
       "    <tr>\n",
       "      <th>...</th>\n",
       "      <td>...</td>\n",
       "      <td>...</td>\n",
       "      <td>...</td>\n",
       "      <td>...</td>\n",
       "      <td>...</td>\n",
       "      <td>...</td>\n",
       "      <td>...</td>\n",
       "      <td>...</td>\n",
       "      <td>...</td>\n",
       "      <td>...</td>\n",
       "      <td>...</td>\n",
       "      <td>...</td>\n",
       "      <td>...</td>\n",
       "      <td>...</td>\n",
       "      <td>...</td>\n",
       "      <td>...</td>\n",
       "      <td>...</td>\n",
       "      <td>...</td>\n",
       "    </tr>\n",
       "    <tr>\n",
       "      <th>95</th>\n",
       "      <td>2014-05-07</td>\n",
       "      <td>560000.0</td>\n",
       "      <td>3.0</td>\n",
       "      <td>3.00</td>\n",
       "      <td>4120</td>\n",
       "      <td>60392</td>\n",
       "      <td>2</td>\n",
       "      <td>0</td>\n",
       "      <td>2</td>\n",
       "      <td>3</td>\n",
       "      <td>3180</td>\n",
       "      <td>940</td>\n",
       "      <td>1994</td>\n",
       "      <td>0</td>\n",
       "      <td>32223 NE 88th St</td>\n",
       "      <td>Carnation</td>\n",
       "      <td>WA 98014</td>\n",
       "      <td>USA</td>\n",
       "    </tr>\n",
       "    <tr>\n",
       "      <th>96</th>\n",
       "      <td>2014-06-27</td>\n",
       "      <td>140000.0</td>\n",
       "      <td>3.0</td>\n",
       "      <td>1.00</td>\n",
       "      <td>1060</td>\n",
       "      <td>7473</td>\n",
       "      <td>1</td>\n",
       "      <td>0</td>\n",
       "      <td>0</td>\n",
       "      <td>3</td>\n",
       "      <td>1060</td>\n",
       "      <td>0</td>\n",
       "      <td>1959</td>\n",
       "      <td>1</td>\n",
       "      <td>25826 19th Ave S</td>\n",
       "      <td>Des Moines</td>\n",
       "      <td>WA 98198</td>\n",
       "      <td>USA</td>\n",
       "    </tr>\n",
       "    <tr>\n",
       "      <th>97</th>\n",
       "      <td>2014-05-13</td>\n",
       "      <td>415000.0</td>\n",
       "      <td>3.0</td>\n",
       "      <td>1.75</td>\n",
       "      <td>1960</td>\n",
       "      <td>5000</td>\n",
       "      <td>1</td>\n",
       "      <td>0</td>\n",
       "      <td>0</td>\n",
       "      <td>5</td>\n",
       "      <td>980</td>\n",
       "      <td>980</td>\n",
       "      <td>1911</td>\n",
       "      <td>1</td>\n",
       "      <td>4958 12th Ave S</td>\n",
       "      <td>Seattle</td>\n",
       "      <td>WA 98108</td>\n",
       "      <td>USA</td>\n",
       "    </tr>\n",
       "    <tr>\n",
       "      <th>98</th>\n",
       "      <td>2014-06-24</td>\n",
       "      <td>415000.0</td>\n",
       "      <td>3.0</td>\n",
       "      <td>2.50</td>\n",
       "      <td>2280</td>\n",
       "      <td>6031</td>\n",
       "      <td>2</td>\n",
       "      <td>0</td>\n",
       "      <td>0</td>\n",
       "      <td>3</td>\n",
       "      <td>2280</td>\n",
       "      <td>0</td>\n",
       "      <td>2011</td>\n",
       "      <td>0</td>\n",
       "      <td>27927 NE 147th Cir</td>\n",
       "      <td>Duvall</td>\n",
       "      <td>WA 98019</td>\n",
       "      <td>USA</td>\n",
       "    </tr>\n",
       "    <tr>\n",
       "      <th>99</th>\n",
       "      <td>2014-05-16</td>\n",
       "      <td>730100.0</td>\n",
       "      <td>4.0</td>\n",
       "      <td>2.50</td>\n",
       "      <td>3120</td>\n",
       "      <td>14300</td>\n",
       "      <td>2</td>\n",
       "      <td>0</td>\n",
       "      <td>0</td>\n",
       "      <td>3</td>\n",
       "      <td>3120</td>\n",
       "      <td>0</td>\n",
       "      <td>2003</td>\n",
       "      <td>0</td>\n",
       "      <td>120 Mt Si Pl NW</td>\n",
       "      <td>Issaquah</td>\n",
       "      <td>WA 98027</td>\n",
       "      <td>USA</td>\n",
       "    </tr>\n",
       "  </tbody>\n",
       "</table>\n",
       "<p>100 rows × 18 columns</p>\n",
       "</div>"
      ],
      "text/plain": [
       "         date      price  bedrooms  bathrooms  sqft_living  sqft_lot  floors  \\\n",
       "0  2014-05-29  3100000.0       6.0       4.25         6980     15682       3   \n",
       "1  2014-05-28   425000.0       4.0       2.75         1680      9545       1   \n",
       "2  2014-05-13   591000.0       4.0       2.25         2710     38180       2   \n",
       "3  2014-07-09   215000.0       4.0       1.50         1860      5040       1   \n",
       "4  2014-06-05   453500.0       4.0       1.75         2000      6032       1   \n",
       "..        ...        ...       ...        ...          ...       ...     ...   \n",
       "95 2014-05-07   560000.0       3.0       3.00         4120     60392       2   \n",
       "96 2014-06-27   140000.0       3.0       1.00         1060      7473       1   \n",
       "97 2014-05-13   415000.0       3.0       1.75         1960      5000       1   \n",
       "98 2014-06-24   415000.0       3.0       2.50         2280      6031       2   \n",
       "99 2014-05-16   730100.0       4.0       2.50         3120     14300       2   \n",
       "\n",
       "    waterfront  view  condition  sqft_above  sqft_basement  yr_built  \\\n",
       "0            0     4          4        5330           1650      1999   \n",
       "1            0     0          4        1080            600      1979   \n",
       "2            0     0          4        2710              0      1977   \n",
       "3            0     0          5        1860              0      1920   \n",
       "4            0     2          3        1300            700      1959   \n",
       "..         ...   ...        ...         ...            ...       ...   \n",
       "95           0     2          3        3180            940      1994   \n",
       "96           0     0          3        1060              0      1959   \n",
       "97           0     0          5         980            980      1911   \n",
       "98           0     0          3        2280              0      2011   \n",
       "99           0     0          3        3120              0      2003   \n",
       "\n",
       "    yr_renovated               street           city  statezip country  \n",
       "0              0   5243 Forest Ave SE  Mercer Island  WA 98040     USA  \n",
       "1              0     7220 NE 152nd Pl        Kenmore  WA 98028     USA  \n",
       "2              0   19615 182nd Ave NE    Woodinville  WA 98077     USA  \n",
       "3              0  1730 Washington Ave       Enumclaw  WA 98022     USA  \n",
       "4              1     4404 SW 101st St        Seattle  WA 98146     USA  \n",
       "..           ...                  ...            ...       ...     ...  \n",
       "95             0     32223 NE 88th St      Carnation  WA 98014     USA  \n",
       "96             1     25826 19th Ave S     Des Moines  WA 98198     USA  \n",
       "97             1      4958 12th Ave S        Seattle  WA 98108     USA  \n",
       "98             0   27927 NE 147th Cir         Duvall  WA 98019     USA  \n",
       "99             0      120 Mt Si Pl NW       Issaquah  WA 98027     USA  \n",
       "\n",
       "[100 rows x 18 columns]"
      ]
     },
     "execution_count": 143,
     "metadata": {},
     "output_type": "execute_result"
    }
   ],
   "source": [
    "# inference-set\n",
    "df_inf"
   ]
  },
  {
   "cell_type": "code",
   "execution_count": 144,
   "metadata": {},
   "outputs": [
    {
     "data": {
      "text/plain": [
       "date             0\n",
       "price            0\n",
       "bedrooms         0\n",
       "bathrooms        0\n",
       "sqft_living      0\n",
       "sqft_lot         0\n",
       "floors           0\n",
       "waterfront       0\n",
       "view             0\n",
       "condition        0\n",
       "sqft_above       0\n",
       "sqft_basement    0\n",
       "yr_built         0\n",
       "yr_renovated     0\n",
       "street           0\n",
       "city             0\n",
       "statezip         0\n",
       "country          0\n",
       "dtype: int64"
      ]
     },
     "execution_count": 144,
     "metadata": {},
     "output_type": "execute_result"
    }
   ],
   "source": [
    "df_inf.isna().sum()"
   ]
  },
  {
   "cell_type": "code",
   "execution_count": 145,
   "metadata": {},
   "outputs": [],
   "source": [
    "# Split data feature dan data label\n",
    "\n",
    "X_inf = df_inf.drop(['price'], axis=1)\n",
    "y_inf = df_inf['price']"
   ]
  },
  {
   "cell_type": "code",
   "execution_count": 146,
   "metadata": {},
   "outputs": [
    {
     "data": {
      "text/html": [
       "<div>\n",
       "<style scoped>\n",
       "    .dataframe tbody tr th:only-of-type {\n",
       "        vertical-align: middle;\n",
       "    }\n",
       "\n",
       "    .dataframe tbody tr th {\n",
       "        vertical-align: top;\n",
       "    }\n",
       "\n",
       "    .dataframe thead th {\n",
       "        text-align: right;\n",
       "    }\n",
       "</style>\n",
       "<table border=\"1\" class=\"dataframe\">\n",
       "  <thead>\n",
       "    <tr style=\"text-align: right;\">\n",
       "      <th></th>\n",
       "      <th>price - prediction</th>\n",
       "    </tr>\n",
       "  </thead>\n",
       "  <tbody>\n",
       "    <tr>\n",
       "      <th>0</th>\n",
       "      <td>1.718402e+06</td>\n",
       "    </tr>\n",
       "    <tr>\n",
       "      <th>1</th>\n",
       "      <td>3.806082e+05</td>\n",
       "    </tr>\n",
       "    <tr>\n",
       "      <th>2</th>\n",
       "      <td>6.169883e+05</td>\n",
       "    </tr>\n",
       "    <tr>\n",
       "      <th>3</th>\n",
       "      <td>3.455708e+05</td>\n",
       "    </tr>\n",
       "    <tr>\n",
       "      <th>4</th>\n",
       "      <td>5.342455e+05</td>\n",
       "    </tr>\n",
       "    <tr>\n",
       "      <th>...</th>\n",
       "      <td>...</td>\n",
       "    </tr>\n",
       "    <tr>\n",
       "      <th>95</th>\n",
       "      <td>8.317480e+05</td>\n",
       "    </tr>\n",
       "    <tr>\n",
       "      <th>96</th>\n",
       "      <td>1.087249e+05</td>\n",
       "    </tr>\n",
       "    <tr>\n",
       "      <th>97</th>\n",
       "      <td>6.352692e+05</td>\n",
       "    </tr>\n",
       "    <tr>\n",
       "      <th>98</th>\n",
       "      <td>4.439356e+05</td>\n",
       "    </tr>\n",
       "    <tr>\n",
       "      <th>99</th>\n",
       "      <td>7.203378e+05</td>\n",
       "    </tr>\n",
       "  </tbody>\n",
       "</table>\n",
       "<p>100 rows × 1 columns</p>\n",
       "</div>"
      ],
      "text/plain": [
       "    price - prediction\n",
       "0         1.718402e+06\n",
       "1         3.806082e+05\n",
       "2         6.169883e+05\n",
       "3         3.455708e+05\n",
       "4         5.342455e+05\n",
       "..                 ...\n",
       "95        8.317480e+05\n",
       "96        1.087249e+05\n",
       "97        6.352692e+05\n",
       "98        4.439356e+05\n",
       "99        7.203378e+05\n",
       "\n",
       "[100 rows x 1 columns]"
      ]
     },
     "execution_count": 146,
     "metadata": {},
     "output_type": "execute_result"
    }
   ],
   "source": [
    "# predict\n",
    "y_pred_inf = pipe_base_lr.predict(X_inf)\n",
    "y_pred_inf = pd.DataFrame(y_pred_inf, columns=['price - prediction'])\n",
    "y_pred_inf"
   ]
  },
  {
   "cell_type": "code",
   "execution_count": 147,
   "metadata": {},
   "outputs": [
    {
     "data": {
      "text/html": [
       "<div>\n",
       "<style scoped>\n",
       "    .dataframe tbody tr th:only-of-type {\n",
       "        vertical-align: middle;\n",
       "    }\n",
       "\n",
       "    .dataframe tbody tr th {\n",
       "        vertical-align: top;\n",
       "    }\n",
       "\n",
       "    .dataframe thead th {\n",
       "        text-align: right;\n",
       "    }\n",
       "</style>\n",
       "<table border=\"1\" class=\"dataframe\">\n",
       "  <thead>\n",
       "    <tr style=\"text-align: right;\">\n",
       "      <th></th>\n",
       "      <th>date</th>\n",
       "      <th>bedrooms</th>\n",
       "      <th>bathrooms</th>\n",
       "      <th>sqft_living</th>\n",
       "      <th>sqft_lot</th>\n",
       "      <th>floors</th>\n",
       "      <th>waterfront</th>\n",
       "      <th>view</th>\n",
       "      <th>condition</th>\n",
       "      <th>sqft_above</th>\n",
       "      <th>sqft_basement</th>\n",
       "      <th>yr_built</th>\n",
       "      <th>yr_renovated</th>\n",
       "      <th>street</th>\n",
       "      <th>city</th>\n",
       "      <th>statezip</th>\n",
       "      <th>country</th>\n",
       "      <th>price</th>\n",
       "      <th>price - prediction</th>\n",
       "    </tr>\n",
       "  </thead>\n",
       "  <tbody>\n",
       "    <tr>\n",
       "      <th>0</th>\n",
       "      <td>2014-05-29</td>\n",
       "      <td>6.0</td>\n",
       "      <td>4.25</td>\n",
       "      <td>6980</td>\n",
       "      <td>15682</td>\n",
       "      <td>3</td>\n",
       "      <td>0</td>\n",
       "      <td>4</td>\n",
       "      <td>4</td>\n",
       "      <td>5330</td>\n",
       "      <td>1650</td>\n",
       "      <td>1999</td>\n",
       "      <td>0</td>\n",
       "      <td>5243 Forest Ave SE</td>\n",
       "      <td>Mercer Island</td>\n",
       "      <td>WA 98040</td>\n",
       "      <td>USA</td>\n",
       "      <td>3100000.0</td>\n",
       "      <td>1.718402e+06</td>\n",
       "    </tr>\n",
       "    <tr>\n",
       "      <th>1</th>\n",
       "      <td>2014-05-28</td>\n",
       "      <td>4.0</td>\n",
       "      <td>2.75</td>\n",
       "      <td>1680</td>\n",
       "      <td>9545</td>\n",
       "      <td>1</td>\n",
       "      <td>0</td>\n",
       "      <td>0</td>\n",
       "      <td>4</td>\n",
       "      <td>1080</td>\n",
       "      <td>600</td>\n",
       "      <td>1979</td>\n",
       "      <td>0</td>\n",
       "      <td>7220 NE 152nd Pl</td>\n",
       "      <td>Kenmore</td>\n",
       "      <td>WA 98028</td>\n",
       "      <td>USA</td>\n",
       "      <td>425000.0</td>\n",
       "      <td>3.806082e+05</td>\n",
       "    </tr>\n",
       "    <tr>\n",
       "      <th>2</th>\n",
       "      <td>2014-05-13</td>\n",
       "      <td>4.0</td>\n",
       "      <td>2.25</td>\n",
       "      <td>2710</td>\n",
       "      <td>38180</td>\n",
       "      <td>2</td>\n",
       "      <td>0</td>\n",
       "      <td>0</td>\n",
       "      <td>4</td>\n",
       "      <td>2710</td>\n",
       "      <td>0</td>\n",
       "      <td>1977</td>\n",
       "      <td>0</td>\n",
       "      <td>19615 182nd Ave NE</td>\n",
       "      <td>Woodinville</td>\n",
       "      <td>WA 98077</td>\n",
       "      <td>USA</td>\n",
       "      <td>591000.0</td>\n",
       "      <td>6.169883e+05</td>\n",
       "    </tr>\n",
       "    <tr>\n",
       "      <th>3</th>\n",
       "      <td>2014-07-09</td>\n",
       "      <td>4.0</td>\n",
       "      <td>1.50</td>\n",
       "      <td>1860</td>\n",
       "      <td>5040</td>\n",
       "      <td>1</td>\n",
       "      <td>0</td>\n",
       "      <td>0</td>\n",
       "      <td>5</td>\n",
       "      <td>1860</td>\n",
       "      <td>0</td>\n",
       "      <td>1920</td>\n",
       "      <td>0</td>\n",
       "      <td>1730 Washington Ave</td>\n",
       "      <td>Enumclaw</td>\n",
       "      <td>WA 98022</td>\n",
       "      <td>USA</td>\n",
       "      <td>215000.0</td>\n",
       "      <td>3.455708e+05</td>\n",
       "    </tr>\n",
       "    <tr>\n",
       "      <th>4</th>\n",
       "      <td>2014-06-05</td>\n",
       "      <td>4.0</td>\n",
       "      <td>1.75</td>\n",
       "      <td>2000</td>\n",
       "      <td>6032</td>\n",
       "      <td>1</td>\n",
       "      <td>0</td>\n",
       "      <td>2</td>\n",
       "      <td>3</td>\n",
       "      <td>1300</td>\n",
       "      <td>700</td>\n",
       "      <td>1959</td>\n",
       "      <td>1</td>\n",
       "      <td>4404 SW 101st St</td>\n",
       "      <td>Seattle</td>\n",
       "      <td>WA 98146</td>\n",
       "      <td>USA</td>\n",
       "      <td>453500.0</td>\n",
       "      <td>5.342455e+05</td>\n",
       "    </tr>\n",
       "    <tr>\n",
       "      <th>...</th>\n",
       "      <td>...</td>\n",
       "      <td>...</td>\n",
       "      <td>...</td>\n",
       "      <td>...</td>\n",
       "      <td>...</td>\n",
       "      <td>...</td>\n",
       "      <td>...</td>\n",
       "      <td>...</td>\n",
       "      <td>...</td>\n",
       "      <td>...</td>\n",
       "      <td>...</td>\n",
       "      <td>...</td>\n",
       "      <td>...</td>\n",
       "      <td>...</td>\n",
       "      <td>...</td>\n",
       "      <td>...</td>\n",
       "      <td>...</td>\n",
       "      <td>...</td>\n",
       "      <td>...</td>\n",
       "    </tr>\n",
       "    <tr>\n",
       "      <th>95</th>\n",
       "      <td>2014-05-07</td>\n",
       "      <td>3.0</td>\n",
       "      <td>3.00</td>\n",
       "      <td>4120</td>\n",
       "      <td>60392</td>\n",
       "      <td>2</td>\n",
       "      <td>0</td>\n",
       "      <td>2</td>\n",
       "      <td>3</td>\n",
       "      <td>3180</td>\n",
       "      <td>940</td>\n",
       "      <td>1994</td>\n",
       "      <td>0</td>\n",
       "      <td>32223 NE 88th St</td>\n",
       "      <td>Carnation</td>\n",
       "      <td>WA 98014</td>\n",
       "      <td>USA</td>\n",
       "      <td>560000.0</td>\n",
       "      <td>8.317480e+05</td>\n",
       "    </tr>\n",
       "    <tr>\n",
       "      <th>96</th>\n",
       "      <td>2014-06-27</td>\n",
       "      <td>3.0</td>\n",
       "      <td>1.00</td>\n",
       "      <td>1060</td>\n",
       "      <td>7473</td>\n",
       "      <td>1</td>\n",
       "      <td>0</td>\n",
       "      <td>0</td>\n",
       "      <td>3</td>\n",
       "      <td>1060</td>\n",
       "      <td>0</td>\n",
       "      <td>1959</td>\n",
       "      <td>1</td>\n",
       "      <td>25826 19th Ave S</td>\n",
       "      <td>Des Moines</td>\n",
       "      <td>WA 98198</td>\n",
       "      <td>USA</td>\n",
       "      <td>140000.0</td>\n",
       "      <td>1.087249e+05</td>\n",
       "    </tr>\n",
       "    <tr>\n",
       "      <th>97</th>\n",
       "      <td>2014-05-13</td>\n",
       "      <td>3.0</td>\n",
       "      <td>1.75</td>\n",
       "      <td>1960</td>\n",
       "      <td>5000</td>\n",
       "      <td>1</td>\n",
       "      <td>0</td>\n",
       "      <td>0</td>\n",
       "      <td>5</td>\n",
       "      <td>980</td>\n",
       "      <td>980</td>\n",
       "      <td>1911</td>\n",
       "      <td>1</td>\n",
       "      <td>4958 12th Ave S</td>\n",
       "      <td>Seattle</td>\n",
       "      <td>WA 98108</td>\n",
       "      <td>USA</td>\n",
       "      <td>415000.0</td>\n",
       "      <td>6.352692e+05</td>\n",
       "    </tr>\n",
       "    <tr>\n",
       "      <th>98</th>\n",
       "      <td>2014-06-24</td>\n",
       "      <td>3.0</td>\n",
       "      <td>2.50</td>\n",
       "      <td>2280</td>\n",
       "      <td>6031</td>\n",
       "      <td>2</td>\n",
       "      <td>0</td>\n",
       "      <td>0</td>\n",
       "      <td>3</td>\n",
       "      <td>2280</td>\n",
       "      <td>0</td>\n",
       "      <td>2011</td>\n",
       "      <td>0</td>\n",
       "      <td>27927 NE 147th Cir</td>\n",
       "      <td>Duvall</td>\n",
       "      <td>WA 98019</td>\n",
       "      <td>USA</td>\n",
       "      <td>415000.0</td>\n",
       "      <td>4.439356e+05</td>\n",
       "    </tr>\n",
       "    <tr>\n",
       "      <th>99</th>\n",
       "      <td>2014-05-16</td>\n",
       "      <td>4.0</td>\n",
       "      <td>2.50</td>\n",
       "      <td>3120</td>\n",
       "      <td>14300</td>\n",
       "      <td>2</td>\n",
       "      <td>0</td>\n",
       "      <td>0</td>\n",
       "      <td>3</td>\n",
       "      <td>3120</td>\n",
       "      <td>0</td>\n",
       "      <td>2003</td>\n",
       "      <td>0</td>\n",
       "      <td>120 Mt Si Pl NW</td>\n",
       "      <td>Issaquah</td>\n",
       "      <td>WA 98027</td>\n",
       "      <td>USA</td>\n",
       "      <td>730100.0</td>\n",
       "      <td>7.203378e+05</td>\n",
       "    </tr>\n",
       "  </tbody>\n",
       "</table>\n",
       "<p>100 rows × 19 columns</p>\n",
       "</div>"
      ],
      "text/plain": [
       "         date  bedrooms  bathrooms  sqft_living  sqft_lot  floors  waterfront  \\\n",
       "0  2014-05-29       6.0       4.25         6980     15682       3           0   \n",
       "1  2014-05-28       4.0       2.75         1680      9545       1           0   \n",
       "2  2014-05-13       4.0       2.25         2710     38180       2           0   \n",
       "3  2014-07-09       4.0       1.50         1860      5040       1           0   \n",
       "4  2014-06-05       4.0       1.75         2000      6032       1           0   \n",
       "..        ...       ...        ...          ...       ...     ...         ...   \n",
       "95 2014-05-07       3.0       3.00         4120     60392       2           0   \n",
       "96 2014-06-27       3.0       1.00         1060      7473       1           0   \n",
       "97 2014-05-13       3.0       1.75         1960      5000       1           0   \n",
       "98 2014-06-24       3.0       2.50         2280      6031       2           0   \n",
       "99 2014-05-16       4.0       2.50         3120     14300       2           0   \n",
       "\n",
       "    view  condition  sqft_above  sqft_basement  yr_built  yr_renovated  \\\n",
       "0      4          4        5330           1650      1999             0   \n",
       "1      0          4        1080            600      1979             0   \n",
       "2      0          4        2710              0      1977             0   \n",
       "3      0          5        1860              0      1920             0   \n",
       "4      2          3        1300            700      1959             1   \n",
       "..   ...        ...         ...            ...       ...           ...   \n",
       "95     2          3        3180            940      1994             0   \n",
       "96     0          3        1060              0      1959             1   \n",
       "97     0          5         980            980      1911             1   \n",
       "98     0          3        2280              0      2011             0   \n",
       "99     0          3        3120              0      2003             0   \n",
       "\n",
       "                 street           city  statezip country      price  \\\n",
       "0    5243 Forest Ave SE  Mercer Island  WA 98040     USA  3100000.0   \n",
       "1      7220 NE 152nd Pl        Kenmore  WA 98028     USA   425000.0   \n",
       "2    19615 182nd Ave NE    Woodinville  WA 98077     USA   591000.0   \n",
       "3   1730 Washington Ave       Enumclaw  WA 98022     USA   215000.0   \n",
       "4      4404 SW 101st St        Seattle  WA 98146     USA   453500.0   \n",
       "..                  ...            ...       ...     ...        ...   \n",
       "95     32223 NE 88th St      Carnation  WA 98014     USA   560000.0   \n",
       "96     25826 19th Ave S     Des Moines  WA 98198     USA   140000.0   \n",
       "97      4958 12th Ave S        Seattle  WA 98108     USA   415000.0   \n",
       "98   27927 NE 147th Cir         Duvall  WA 98019     USA   415000.0   \n",
       "99      120 Mt Si Pl NW       Issaquah  WA 98027     USA   730100.0   \n",
       "\n",
       "    price - prediction  \n",
       "0         1.718402e+06  \n",
       "1         3.806082e+05  \n",
       "2         6.169883e+05  \n",
       "3         3.455708e+05  \n",
       "4         5.342455e+05  \n",
       "..                 ...  \n",
       "95        8.317480e+05  \n",
       "96        1.087249e+05  \n",
       "97        6.352692e+05  \n",
       "98        4.439356e+05  \n",
       "99        7.203378e+05  \n",
       "\n",
       "[100 rows x 19 columns]"
      ]
     },
     "execution_count": 147,
     "metadata": {},
     "output_type": "execute_result"
    }
   ],
   "source": [
    "df_inf_all = pd.concat([X_inf, y_inf, y_pred_inf], axis=1)\n",
    "df_inf_all"
   ]
  },
  {
   "cell_type": "markdown",
   "metadata": {},
   "source": [
    "# 10. Kesimpulan\n",
    "\n",
    "Pada bagian terakhir ini, harus berisi kesimpulan yang mencerminkan hasil yang didapat dengan objective yang sudah ditulis di bagian pengenalan."
   ]
  },
  {
   "cell_type": "markdown",
   "metadata": {},
   "source": [
    "1. Dataset ini menjelaskan tentang harga rumah di setiap kota di USA. Pada bulan Mei-Juli di tahun 2014 terjadi transaksi pembelian rumah dan bulan Juni paling banyak konsumen membeli rumah.\n",
    "2. Kota Seattle memilki rumah paling banyak sekaligus paling mahal diantara kota-kota lain di USA.\n",
    "3. Tingkatan rumah di USA bervariasi, rumah bertingkat 3, rumah bertingkat 2, dan rumah tanpa bertingkat (lantai dasar). Konsumen tertarik untuk membeli rumah tidak bertingkat dibanding dengan rumah bertingkat 2 dan 3. Mungkin juga karena harga rumah tidak bertingkat lebih murah.\n",
    "4. Beberapa rumah sudah pernah direnovasi dan biaya yang dikeluarkan juga besar karena membutuhkan penggantian perabotan rumah yang sudah tidak layak dipakai.\n",
    "5. Kebanyakan kamar yang tersedia di rumah-rumah ada 3 kamar tidur dan 2 kamar mandi.\n",
    "6. Setelah dilakukan evaluasi model, hasilnya masih kurang memuaskan.\n",
    "7. Model yang dipakai untuk memprediksi harga rumah di USA adalah Linear Regression."
   ]
  },
  {
   "cell_type": "markdown",
   "metadata": {},
   "source": [
    "# 11. Model Development"
   ]
  },
  {
   "cell_type": "code",
   "execution_count": 148,
   "metadata": {},
   "outputs": [],
   "source": [
    "# Simpan file pipeline\n",
    "import pickle\n",
    "\n",
    "with open(\"pipe_linear_regression.pkl\", \"wb\") as model_file:\n",
    "    pickle.dump(pipe_base_lr, model_file)"
   ]
  }
 ],
 "metadata": {
  "interpreter": {
   "hash": "d1eb415d2423691ab8033da02aac34a6b832aa094a09316f8fa35d1fd611d4d8"
  },
  "kernelspec": {
   "display_name": "Python 3 (ipykernel)",
   "language": "python",
   "name": "python3"
  },
  "language_info": {
   "codemirror_mode": {
    "name": "ipython",
    "version": 3
   },
   "file_extension": ".py",
   "mimetype": "text/x-python",
   "name": "python",
   "nbconvert_exporter": "python",
   "pygments_lexer": "ipython3",
   "version": "3.10.1"
  }
 },
 "nbformat": 4,
 "nbformat_minor": 2
}
